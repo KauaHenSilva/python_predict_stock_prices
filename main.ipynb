{
  "nbformat": 4,
  "nbformat_minor": 0,
  "metadata": {
    "colab": {
      "provenance": [],
      "machine_shape": "hm",
      "gpuType": "A100",
      "authorship_tag": "ABX9TyPLP7RR5GciHe8ursYAEJzS",
      "include_colab_link": true
    },
    "kernelspec": {
      "name": "python3",
      "display_name": "Python 3"
    },
    "language_info": {
      "name": "python"
    },
    "accelerator": "GPU"
  },
  "cells": [
    {
      "cell_type": "markdown",
      "metadata": {
        "id": "view-in-github",
        "colab_type": "text"
      },
      "source": [
        "<a href=\"https://colab.research.google.com/github/KauaHenSilva/python_predict_stock_prices/blob/main/main.ipynb\" target=\"_parent\"><img src=\"https://colab.research.google.com/assets/colab-badge.svg\" alt=\"Open In Colab\"/></a>"
      ]
    },
    {
      "cell_type": "markdown",
      "source": [
        "## Recuperação por download"
      ],
      "metadata": {
        "id": "X-Tpse8oIffc"
      }
    },
    {
      "cell_type": "code",
      "source": [
        "# @markdown #### Caso escolheu o tipo de recuperação drive/ambos e não tenha os arquivos, faça um atalho desse drive:\n",
        "link_do_drive = \"https://drive.google.com/drive/folders/1uwHnZRnVPt6ha5s_cyZSAoCP7ATWBEwN?usp=drive_link\" #@param {type:\"string\"}\n",
        "path_atalho_drive = \"/content/drive/MyDrive/Projetos Do GitHub/python_predict_stock_prices\" #@param {type:\"string\"}\n",
        "path_download = \"python_predict_stock_prices\" #@param {type:\"string\"}"
      ],
      "metadata": {
        "cellView": "form",
        "id": "CcCgEcQMl7QK"
      },
      "execution_count": 104,
      "outputs": []
    },
    {
      "cell_type": "code",
      "source": [
        "import os\n",
        "import zipfile\n",
        "\n",
        "if os.path.exists('python_download_file_drive'):\n",
        "  !cd python_download_file_drive && git pull\n",
        "else:\n",
        "  !git clone https://github.com/KauaHenSilva/python_download_file_drive\n",
        "%pip install --upgrade --quiet -r python_download_file_drive/requirements.txt\n"
      ],
      "metadata": {
        "colab": {
          "base_uri": "https://localhost:8080/"
        },
        "id": "fOLmN6GYFKQP",
        "outputId": "c9cd7829-e254-40f3-d2c1-015a97abf301"
      },
      "execution_count": 105,
      "outputs": [
        {
          "output_type": "stream",
          "name": "stdout",
          "text": [
            "Already up to date.\n"
          ]
        }
      ]
    },
    {
      "cell_type": "code",
      "source": [
        "try:\n",
        "    from google.colab import drive\n",
        "    from google.colab import auth\n",
        "    from googleapiclient.discovery import build\n",
        "    auth.authenticate_user()\n",
        "\n",
        "    !python \"python_download_file_drive/main.py\" {link_do_drive} {path_download} # ALERTA: Caso o drive bote limite de download comente essa linha\n",
        "\n",
        "    drive.mount('/content/drive')\n",
        "    if not os.path.exists(path_atalho_drive):\n",
        "      print(\"[INFO] Atalho no drive não encontrado.\")\n",
        "\n",
        "except:\n",
        "\n",
        "    if os.path.exists(f\"{path_download}.zip\"):\n",
        "      print(f\"Descompactando {path_download}.zip\")\n",
        "      !rm -rf {path_download}\n",
        "      with zipfile.ZipFile(f\"{path_download}.zip\", 'r') as zip_ref:\n",
        "        zip_ref.extractall(f\"{path_download}_temp\")\n",
        "        !mv {path_download}_temp/* {path_download}\n",
        "        !rm -rf {path_download}_temp\n",
        "        !rm -rf {path_download}.zip\n",
        "\n",
        "    if not os.path.exists(path_download):\n",
        "      raise Exception(f\"Você não está nos altenticado nos servidores do google colab. Para prosseguir, faça o download dos arquivos que estão presente no drive e tente novamente. O link do drive {link_do_drive}. A pasta deve está dentro de /content/\")\n"
      ],
      "metadata": {
        "id": "iKzalayLZBvi",
        "colab": {
          "base_uri": "https://localhost:8080/"
        },
        "outputId": "4965431d-b89e-44ae-a959-ed066486f346"
      },
      "execution_count": 106,
      "outputs": [
        {
          "output_type": "stream",
          "name": "stderr",
          "text": [
            "WARNING:google.auth.compute_engine._metadata:Compute Engine Metadata server unavailable on attempt 1 of 3. Reason: [Errno 111] Connection refused\n",
            "WARNING:google.auth.compute_engine._metadata:Compute Engine Metadata server unavailable on attempt 2 of 3. Reason: [Errno 111] Connection refused\n",
            "WARNING:google.auth.compute_engine._metadata:Compute Engine Metadata server unavailable on attempt 3 of 3. Reason: [Errno 111] Connection refused\n",
            "WARNING:google.auth.compute_engine._metadata:Compute Engine Metadata server unavailable on attempt 1 of 3. Reason: [Errno 111] Connection refused\n",
            "WARNING:google.auth.compute_engine._metadata:Compute Engine Metadata server unavailable on attempt 2 of 3. Reason: [Errno 111] Connection refused\n",
            "WARNING:google.auth.compute_engine._metadata:Compute Engine Metadata server unavailable on attempt 3 of 3. Reason: [Errno 111] Connection refused\n"
          ]
        }
      ]
    },
    {
      "cell_type": "code",
      "source": [
        "def get_referencia_valida(path, file_init):\n",
        "    path_download = os.path.join(f\"/content/{file_init}\", path)\n",
        "    path_drive = os.path.join(path_atalho_drive, path)\n",
        "\n",
        "    bool_download = os.path.exists(path_download)\n",
        "    bool_drive = os.path.exists(path_drive)\n",
        "\n",
        "    if not bool_download and not bool_drive:\n",
        "        raise Exception(f\"Arquivo não encontrado em nenhum dos caminhos (Download ou Drive). Caminhos: {path_download}, {path_drive}\")\n",
        "\n",
        "    if not bool_drive and bool_download:\n",
        "        print(\"[INFO] Arquivo encontrado no download, mas não no drive.\")\n",
        "        return path_download\n",
        "\n",
        "    if bool_drive and not bool_download:\n",
        "        print(\"[INFO] Arquivo encontrado no drive, mas não no download.\")\n",
        "        return path_drive\n",
        "\n",
        "    return path_download\n"
      ],
      "metadata": {
        "id": "ix3CQHCQMntG"
      },
      "execution_count": 107,
      "outputs": []
    },
    {
      "cell_type": "markdown",
      "source": [
        "# Bolsa de valores"
      ],
      "metadata": {
        "id": "0TsiEmZjGcqN"
      }
    },
    {
      "cell_type": "code",
      "source": [
        "import numpy as np\n",
        "import pandas as pd\n",
        "import matplotlib\n",
        "import tensorflow as tf\n",
        "import sklearn"
      ],
      "metadata": {
        "id": "P97WRVB1G5lm"
      },
      "execution_count": 108,
      "outputs": []
    },
    {
      "cell_type": "code",
      "source": [
        "np.__version__, pd.__version__, matplotlib.__version__, tf.__version__, sklearn.__version__"
      ],
      "metadata": {
        "colab": {
          "base_uri": "https://localhost:8080/"
        },
        "id": "JczBIfgBHGI3",
        "outputId": "7ea98dba-7b0e-4eb0-9a08-ce85a485d01d"
      },
      "execution_count": 109,
      "outputs": [
        {
          "output_type": "execute_result",
          "data": {
            "text/plain": [
              "('1.26.4', '2.2.2', '3.8.0', '2.16.1', '1.6.0')"
            ]
          },
          "metadata": {},
          "execution_count": 109
        }
      ]
    },
    {
      "cell_type": "code",
      "source": [
        "from tensorflow.keras.models import Sequential\n",
        "from tensorflow.keras.layers import Dense, Dropout, LSTM\n",
        "from sklearn.preprocessing import  MinMaxScaler\n",
        "import matplotlib.pyplot as plt"
      ],
      "metadata": {
        "id": "wZ8zIUQTHasu"
      },
      "execution_count": 110,
      "outputs": []
    },
    {
      "cell_type": "code",
      "source": [
        "path_database_test = get_referencia_valida(\"petr4_teste.csv\", path_download)\n",
        "path_database_treinamento = get_referencia_valida(\"petr4_treinamento.csv\", path_download)"
      ],
      "metadata": {
        "colab": {
          "base_uri": "https://localhost:8080/"
        },
        "id": "51CX9ZMUI0Lf",
        "outputId": "20b0e6c1-81a8-4b8a-bc73-e7ca577fe902"
      },
      "execution_count": 111,
      "outputs": [
        {
          "output_type": "stream",
          "name": "stdout",
          "text": [
            "[INFO] Arquivo encontrado no download, mas não no drive.\n",
            "[INFO] Arquivo encontrado no download, mas não no drive.\n"
          ]
        }
      ]
    },
    {
      "cell_type": "code",
      "source": [
        "database_treinamento = pd.read_csv(path_database_treinamento)\n",
        "database_teste = pd.read_csv(path_database_test)"
      ],
      "metadata": {
        "id": "s2pOvOyHJAfp"
      },
      "execution_count": 112,
      "outputs": []
    },
    {
      "cell_type": "code",
      "source": [
        "database_treinamento.head()"
      ],
      "metadata": {
        "colab": {
          "base_uri": "https://localhost:8080/",
          "height": 206
        },
        "id": "8NcYOGErJF2u",
        "outputId": "7a61f679-55f4-49f7-8b87-adea1b35bd77"
      },
      "execution_count": 113,
      "outputs": [
        {
          "output_type": "execute_result",
          "data": {
            "text/plain": [
              "         Date       Open       High        Low      Close  Adj Close      Volume\n",
              "0  2013-01-02  19.990000  20.209999  19.690001  19.690001  18.086271  30182600.0\n",
              "1  2013-01-03  19.809999  20.400000  19.700001  20.400000  18.738441  30552600.0\n",
              "2  2013-01-04  20.330000  20.620001  20.170000  20.430000  18.766001  36141000.0\n",
              "3  2013-01-07  20.480000  20.670000  19.950001  20.080000  18.444506  28069600.0\n",
              "4  2013-01-08  20.110001  20.230000  19.459999  19.500000  17.911745  29091300.0"
            ],
            "text/html": [
              "\n",
              "  <div id=\"df-5cca570c-b82e-4b61-a1d0-87a4c7aa0ad8\" class=\"colab-df-container\">\n",
              "    <div>\n",
              "<style scoped>\n",
              "    .dataframe tbody tr th:only-of-type {\n",
              "        vertical-align: middle;\n",
              "    }\n",
              "\n",
              "    .dataframe tbody tr th {\n",
              "        vertical-align: top;\n",
              "    }\n",
              "\n",
              "    .dataframe thead th {\n",
              "        text-align: right;\n",
              "    }\n",
              "</style>\n",
              "<table border=\"1\" class=\"dataframe\">\n",
              "  <thead>\n",
              "    <tr style=\"text-align: right;\">\n",
              "      <th></th>\n",
              "      <th>Date</th>\n",
              "      <th>Open</th>\n",
              "      <th>High</th>\n",
              "      <th>Low</th>\n",
              "      <th>Close</th>\n",
              "      <th>Adj Close</th>\n",
              "      <th>Volume</th>\n",
              "    </tr>\n",
              "  </thead>\n",
              "  <tbody>\n",
              "    <tr>\n",
              "      <th>0</th>\n",
              "      <td>2013-01-02</td>\n",
              "      <td>19.990000</td>\n",
              "      <td>20.209999</td>\n",
              "      <td>19.690001</td>\n",
              "      <td>19.690001</td>\n",
              "      <td>18.086271</td>\n",
              "      <td>30182600.0</td>\n",
              "    </tr>\n",
              "    <tr>\n",
              "      <th>1</th>\n",
              "      <td>2013-01-03</td>\n",
              "      <td>19.809999</td>\n",
              "      <td>20.400000</td>\n",
              "      <td>19.700001</td>\n",
              "      <td>20.400000</td>\n",
              "      <td>18.738441</td>\n",
              "      <td>30552600.0</td>\n",
              "    </tr>\n",
              "    <tr>\n",
              "      <th>2</th>\n",
              "      <td>2013-01-04</td>\n",
              "      <td>20.330000</td>\n",
              "      <td>20.620001</td>\n",
              "      <td>20.170000</td>\n",
              "      <td>20.430000</td>\n",
              "      <td>18.766001</td>\n",
              "      <td>36141000.0</td>\n",
              "    </tr>\n",
              "    <tr>\n",
              "      <th>3</th>\n",
              "      <td>2013-01-07</td>\n",
              "      <td>20.480000</td>\n",
              "      <td>20.670000</td>\n",
              "      <td>19.950001</td>\n",
              "      <td>20.080000</td>\n",
              "      <td>18.444506</td>\n",
              "      <td>28069600.0</td>\n",
              "    </tr>\n",
              "    <tr>\n",
              "      <th>4</th>\n",
              "      <td>2013-01-08</td>\n",
              "      <td>20.110001</td>\n",
              "      <td>20.230000</td>\n",
              "      <td>19.459999</td>\n",
              "      <td>19.500000</td>\n",
              "      <td>17.911745</td>\n",
              "      <td>29091300.0</td>\n",
              "    </tr>\n",
              "  </tbody>\n",
              "</table>\n",
              "</div>\n",
              "    <div class=\"colab-df-buttons\">\n",
              "\n",
              "  <div class=\"colab-df-container\">\n",
              "    <button class=\"colab-df-convert\" onclick=\"convertToInteractive('df-5cca570c-b82e-4b61-a1d0-87a4c7aa0ad8')\"\n",
              "            title=\"Convert this dataframe to an interactive table.\"\n",
              "            style=\"display:none;\">\n",
              "\n",
              "  <svg xmlns=\"http://www.w3.org/2000/svg\" height=\"24px\" viewBox=\"0 -960 960 960\">\n",
              "    <path d=\"M120-120v-720h720v720H120Zm60-500h600v-160H180v160Zm220 220h160v-160H400v160Zm0 220h160v-160H400v160ZM180-400h160v-160H180v160Zm440 0h160v-160H620v160ZM180-180h160v-160H180v160Zm440 0h160v-160H620v160Z\"/>\n",
              "  </svg>\n",
              "    </button>\n",
              "\n",
              "  <style>\n",
              "    .colab-df-container {\n",
              "      display:flex;\n",
              "      gap: 12px;\n",
              "    }\n",
              "\n",
              "    .colab-df-convert {\n",
              "      background-color: #E8F0FE;\n",
              "      border: none;\n",
              "      border-radius: 50%;\n",
              "      cursor: pointer;\n",
              "      display: none;\n",
              "      fill: #1967D2;\n",
              "      height: 32px;\n",
              "      padding: 0 0 0 0;\n",
              "      width: 32px;\n",
              "    }\n",
              "\n",
              "    .colab-df-convert:hover {\n",
              "      background-color: #E2EBFA;\n",
              "      box-shadow: 0px 1px 2px rgba(60, 64, 67, 0.3), 0px 1px 3px 1px rgba(60, 64, 67, 0.15);\n",
              "      fill: #174EA6;\n",
              "    }\n",
              "\n",
              "    .colab-df-buttons div {\n",
              "      margin-bottom: 4px;\n",
              "    }\n",
              "\n",
              "    [theme=dark] .colab-df-convert {\n",
              "      background-color: #3B4455;\n",
              "      fill: #D2E3FC;\n",
              "    }\n",
              "\n",
              "    [theme=dark] .colab-df-convert:hover {\n",
              "      background-color: #434B5C;\n",
              "      box-shadow: 0px 1px 3px 1px rgba(0, 0, 0, 0.15);\n",
              "      filter: drop-shadow(0px 1px 2px rgba(0, 0, 0, 0.3));\n",
              "      fill: #FFFFFF;\n",
              "    }\n",
              "  </style>\n",
              "\n",
              "    <script>\n",
              "      const buttonEl =\n",
              "        document.querySelector('#df-5cca570c-b82e-4b61-a1d0-87a4c7aa0ad8 button.colab-df-convert');\n",
              "      buttonEl.style.display =\n",
              "        google.colab.kernel.accessAllowed ? 'block' : 'none';\n",
              "\n",
              "      async function convertToInteractive(key) {\n",
              "        const element = document.querySelector('#df-5cca570c-b82e-4b61-a1d0-87a4c7aa0ad8');\n",
              "        const dataTable =\n",
              "          await google.colab.kernel.invokeFunction('convertToInteractive',\n",
              "                                                    [key], {});\n",
              "        if (!dataTable) return;\n",
              "\n",
              "        const docLinkHtml = 'Like what you see? Visit the ' +\n",
              "          '<a target=\"_blank\" href=https://colab.research.google.com/notebooks/data_table.ipynb>data table notebook</a>'\n",
              "          + ' to learn more about interactive tables.';\n",
              "        element.innerHTML = '';\n",
              "        dataTable['output_type'] = 'display_data';\n",
              "        await google.colab.output.renderOutput(dataTable, element);\n",
              "        const docLink = document.createElement('div');\n",
              "        docLink.innerHTML = docLinkHtml;\n",
              "        element.appendChild(docLink);\n",
              "      }\n",
              "    </script>\n",
              "  </div>\n",
              "\n",
              "\n",
              "<div id=\"df-45bc63a3-2347-49b0-9f42-7c50c833e67d\">\n",
              "  <button class=\"colab-df-quickchart\" onclick=\"quickchart('df-45bc63a3-2347-49b0-9f42-7c50c833e67d')\"\n",
              "            title=\"Suggest charts\"\n",
              "            style=\"display:none;\">\n",
              "\n",
              "<svg xmlns=\"http://www.w3.org/2000/svg\" height=\"24px\"viewBox=\"0 0 24 24\"\n",
              "     width=\"24px\">\n",
              "    <g>\n",
              "        <path d=\"M19 3H5c-1.1 0-2 .9-2 2v14c0 1.1.9 2 2 2h14c1.1 0 2-.9 2-2V5c0-1.1-.9-2-2-2zM9 17H7v-7h2v7zm4 0h-2V7h2v10zm4 0h-2v-4h2v4z\"/>\n",
              "    </g>\n",
              "</svg>\n",
              "  </button>\n",
              "\n",
              "<style>\n",
              "  .colab-df-quickchart {\n",
              "      --bg-color: #E8F0FE;\n",
              "      --fill-color: #1967D2;\n",
              "      --hover-bg-color: #E2EBFA;\n",
              "      --hover-fill-color: #174EA6;\n",
              "      --disabled-fill-color: #AAA;\n",
              "      --disabled-bg-color: #DDD;\n",
              "  }\n",
              "\n",
              "  [theme=dark] .colab-df-quickchart {\n",
              "      --bg-color: #3B4455;\n",
              "      --fill-color: #D2E3FC;\n",
              "      --hover-bg-color: #434B5C;\n",
              "      --hover-fill-color: #FFFFFF;\n",
              "      --disabled-bg-color: #3B4455;\n",
              "      --disabled-fill-color: #666;\n",
              "  }\n",
              "\n",
              "  .colab-df-quickchart {\n",
              "    background-color: var(--bg-color);\n",
              "    border: none;\n",
              "    border-radius: 50%;\n",
              "    cursor: pointer;\n",
              "    display: none;\n",
              "    fill: var(--fill-color);\n",
              "    height: 32px;\n",
              "    padding: 0;\n",
              "    width: 32px;\n",
              "  }\n",
              "\n",
              "  .colab-df-quickchart:hover {\n",
              "    background-color: var(--hover-bg-color);\n",
              "    box-shadow: 0 1px 2px rgba(60, 64, 67, 0.3), 0 1px 3px 1px rgba(60, 64, 67, 0.15);\n",
              "    fill: var(--button-hover-fill-color);\n",
              "  }\n",
              "\n",
              "  .colab-df-quickchart-complete:disabled,\n",
              "  .colab-df-quickchart-complete:disabled:hover {\n",
              "    background-color: var(--disabled-bg-color);\n",
              "    fill: var(--disabled-fill-color);\n",
              "    box-shadow: none;\n",
              "  }\n",
              "\n",
              "  .colab-df-spinner {\n",
              "    border: 2px solid var(--fill-color);\n",
              "    border-color: transparent;\n",
              "    border-bottom-color: var(--fill-color);\n",
              "    animation:\n",
              "      spin 1s steps(1) infinite;\n",
              "  }\n",
              "\n",
              "  @keyframes spin {\n",
              "    0% {\n",
              "      border-color: transparent;\n",
              "      border-bottom-color: var(--fill-color);\n",
              "      border-left-color: var(--fill-color);\n",
              "    }\n",
              "    20% {\n",
              "      border-color: transparent;\n",
              "      border-left-color: var(--fill-color);\n",
              "      border-top-color: var(--fill-color);\n",
              "    }\n",
              "    30% {\n",
              "      border-color: transparent;\n",
              "      border-left-color: var(--fill-color);\n",
              "      border-top-color: var(--fill-color);\n",
              "      border-right-color: var(--fill-color);\n",
              "    }\n",
              "    40% {\n",
              "      border-color: transparent;\n",
              "      border-right-color: var(--fill-color);\n",
              "      border-top-color: var(--fill-color);\n",
              "    }\n",
              "    60% {\n",
              "      border-color: transparent;\n",
              "      border-right-color: var(--fill-color);\n",
              "    }\n",
              "    80% {\n",
              "      border-color: transparent;\n",
              "      border-right-color: var(--fill-color);\n",
              "      border-bottom-color: var(--fill-color);\n",
              "    }\n",
              "    90% {\n",
              "      border-color: transparent;\n",
              "      border-bottom-color: var(--fill-color);\n",
              "    }\n",
              "  }\n",
              "</style>\n",
              "\n",
              "  <script>\n",
              "    async function quickchart(key) {\n",
              "      const quickchartButtonEl =\n",
              "        document.querySelector('#' + key + ' button');\n",
              "      quickchartButtonEl.disabled = true;  // To prevent multiple clicks.\n",
              "      quickchartButtonEl.classList.add('colab-df-spinner');\n",
              "      try {\n",
              "        const charts = await google.colab.kernel.invokeFunction(\n",
              "            'suggestCharts', [key], {});\n",
              "      } catch (error) {\n",
              "        console.error('Error during call to suggestCharts:', error);\n",
              "      }\n",
              "      quickchartButtonEl.classList.remove('colab-df-spinner');\n",
              "      quickchartButtonEl.classList.add('colab-df-quickchart-complete');\n",
              "    }\n",
              "    (() => {\n",
              "      let quickchartButtonEl =\n",
              "        document.querySelector('#df-45bc63a3-2347-49b0-9f42-7c50c833e67d button');\n",
              "      quickchartButtonEl.style.display =\n",
              "        google.colab.kernel.accessAllowed ? 'block' : 'none';\n",
              "    })();\n",
              "  </script>\n",
              "</div>\n",
              "\n",
              "    </div>\n",
              "  </div>\n"
            ],
            "application/vnd.google.colaboratory.intrinsic+json": {
              "type": "dataframe",
              "variable_name": "database_treinamento",
              "summary": "{\n  \"name\": \"database_treinamento\",\n  \"rows\": 1245,\n  \"fields\": [\n    {\n      \"column\": \"Date\",\n      \"properties\": {\n        \"dtype\": \"object\",\n        \"num_unique_values\": 1245,\n        \"samples\": [\n          \"2015-12-18\",\n          \"2014-10-13\",\n          \"2017-07-05\"\n        ],\n        \"semantic_type\": \"\",\n        \"description\": \"\"\n      }\n    },\n    {\n      \"column\": \"Open\",\n      \"properties\": {\n        \"dtype\": \"number\",\n        \"std\": 4.1483114963869925,\n        \"min\": 4.2,\n        \"max\": 24.84,\n        \"num_unique_values\": 797,\n        \"samples\": [\n          15.55,\n          13.34,\n          17.440001\n        ],\n        \"semantic_type\": \"\",\n        \"description\": \"\"\n      }\n    },\n    {\n      \"column\": \"High\",\n      \"properties\": {\n        \"dtype\": \"number\",\n        \"std\": 4.186652378816131,\n        \"min\": 4.27,\n        \"max\": 24.9,\n        \"num_unique_values\": 835,\n        \"samples\": [\n          8.27,\n          16.120001,\n          20.870001\n        ],\n        \"semantic_type\": \"\",\n        \"description\": \"\"\n      }\n    },\n    {\n      \"column\": \"Low\",\n      \"properties\": {\n        \"dtype\": \"number\",\n        \"std\": 4.108178159249577,\n        \"min\": 4.12,\n        \"max\": 23.66,\n        \"num_unique_values\": 799,\n        \"samples\": [\n          14.29,\n          12.71,\n          19.889999\n        ],\n        \"semantic_type\": \"\",\n        \"description\": \"\"\n      }\n    },\n    {\n      \"column\": \"Close\",\n      \"properties\": {\n        \"dtype\": \"number\",\n        \"std\": 4.146244167493831,\n        \"min\": 4.2,\n        \"max\": 24.559999,\n        \"num_unique_values\": 813,\n        \"samples\": [\n          13.99,\n          4.46,\n          14.43\n        ],\n        \"semantic_type\": \"\",\n        \"description\": \"\"\n      }\n    },\n    {\n      \"column\": \"Adj Close\",\n      \"properties\": {\n        \"dtype\": \"number\",\n        \"std\": 3.8997352537639998,\n        \"min\": 4.191617,\n        \"max\": 24.510979,\n        \"num_unique_values\": 925,\n        \"samples\": [\n          17.465071,\n          12.914171,\n          16.18487\n        ],\n        \"semantic_type\": \"\",\n        \"description\": \"\"\n      }\n    },\n    {\n      \"column\": \"Volume\",\n      \"properties\": {\n        \"dtype\": \"number\",\n        \"std\": 32356307.1863529,\n        \"min\": 0.0,\n        \"max\": 698950612.0,\n        \"num_unique_values\": 1233,\n        \"samples\": [\n          28004000.0,\n          42857200.0,\n          457400.0\n        ],\n        \"semantic_type\": \"\",\n        \"description\": \"\"\n      }\n    }\n  ]\n}"
            }
          },
          "metadata": {},
          "execution_count": 113
        }
      ]
    },
    {
      "cell_type": "code",
      "source": [
        "database_teste.head()"
      ],
      "metadata": {
        "colab": {
          "base_uri": "https://localhost:8080/",
          "height": 206
        },
        "id": "otKU0qfCJG_l",
        "outputId": "10e93e09-7c37-4f81-d51d-d8b2e2592722"
      },
      "execution_count": 114,
      "outputs": [
        {
          "output_type": "execute_result",
          "data": {
            "text/plain": [
              "         Date       Open       High        Low      Close  Adj Close    Volume\n",
              "0  2018-01-02  16.190001  16.549999  16.190001  16.549999  16.516966  33461800\n",
              "1  2018-01-03  16.490000  16.719999  16.370001  16.700001  16.666668  55940900\n",
              "2  2018-01-04  16.780001  16.959999  16.620001  16.730000  16.696608  37064900\n",
              "3  2018-01-05  16.700001  16.860001  16.570000  16.830000  16.796408  26958200\n",
              "4  2018-01-08  16.740000  17.030001  16.709999  17.030001  16.996010  28400000"
            ],
            "text/html": [
              "\n",
              "  <div id=\"df-333ef2c2-5dbf-46af-8837-ff4a94043957\" class=\"colab-df-container\">\n",
              "    <div>\n",
              "<style scoped>\n",
              "    .dataframe tbody tr th:only-of-type {\n",
              "        vertical-align: middle;\n",
              "    }\n",
              "\n",
              "    .dataframe tbody tr th {\n",
              "        vertical-align: top;\n",
              "    }\n",
              "\n",
              "    .dataframe thead th {\n",
              "        text-align: right;\n",
              "    }\n",
              "</style>\n",
              "<table border=\"1\" class=\"dataframe\">\n",
              "  <thead>\n",
              "    <tr style=\"text-align: right;\">\n",
              "      <th></th>\n",
              "      <th>Date</th>\n",
              "      <th>Open</th>\n",
              "      <th>High</th>\n",
              "      <th>Low</th>\n",
              "      <th>Close</th>\n",
              "      <th>Adj Close</th>\n",
              "      <th>Volume</th>\n",
              "    </tr>\n",
              "  </thead>\n",
              "  <tbody>\n",
              "    <tr>\n",
              "      <th>0</th>\n",
              "      <td>2018-01-02</td>\n",
              "      <td>16.190001</td>\n",
              "      <td>16.549999</td>\n",
              "      <td>16.190001</td>\n",
              "      <td>16.549999</td>\n",
              "      <td>16.516966</td>\n",
              "      <td>33461800</td>\n",
              "    </tr>\n",
              "    <tr>\n",
              "      <th>1</th>\n",
              "      <td>2018-01-03</td>\n",
              "      <td>16.490000</td>\n",
              "      <td>16.719999</td>\n",
              "      <td>16.370001</td>\n",
              "      <td>16.700001</td>\n",
              "      <td>16.666668</td>\n",
              "      <td>55940900</td>\n",
              "    </tr>\n",
              "    <tr>\n",
              "      <th>2</th>\n",
              "      <td>2018-01-04</td>\n",
              "      <td>16.780001</td>\n",
              "      <td>16.959999</td>\n",
              "      <td>16.620001</td>\n",
              "      <td>16.730000</td>\n",
              "      <td>16.696608</td>\n",
              "      <td>37064900</td>\n",
              "    </tr>\n",
              "    <tr>\n",
              "      <th>3</th>\n",
              "      <td>2018-01-05</td>\n",
              "      <td>16.700001</td>\n",
              "      <td>16.860001</td>\n",
              "      <td>16.570000</td>\n",
              "      <td>16.830000</td>\n",
              "      <td>16.796408</td>\n",
              "      <td>26958200</td>\n",
              "    </tr>\n",
              "    <tr>\n",
              "      <th>4</th>\n",
              "      <td>2018-01-08</td>\n",
              "      <td>16.740000</td>\n",
              "      <td>17.030001</td>\n",
              "      <td>16.709999</td>\n",
              "      <td>17.030001</td>\n",
              "      <td>16.996010</td>\n",
              "      <td>28400000</td>\n",
              "    </tr>\n",
              "  </tbody>\n",
              "</table>\n",
              "</div>\n",
              "    <div class=\"colab-df-buttons\">\n",
              "\n",
              "  <div class=\"colab-df-container\">\n",
              "    <button class=\"colab-df-convert\" onclick=\"convertToInteractive('df-333ef2c2-5dbf-46af-8837-ff4a94043957')\"\n",
              "            title=\"Convert this dataframe to an interactive table.\"\n",
              "            style=\"display:none;\">\n",
              "\n",
              "  <svg xmlns=\"http://www.w3.org/2000/svg\" height=\"24px\" viewBox=\"0 -960 960 960\">\n",
              "    <path d=\"M120-120v-720h720v720H120Zm60-500h600v-160H180v160Zm220 220h160v-160H400v160Zm0 220h160v-160H400v160ZM180-400h160v-160H180v160Zm440 0h160v-160H620v160ZM180-180h160v-160H180v160Zm440 0h160v-160H620v160Z\"/>\n",
              "  </svg>\n",
              "    </button>\n",
              "\n",
              "  <style>\n",
              "    .colab-df-container {\n",
              "      display:flex;\n",
              "      gap: 12px;\n",
              "    }\n",
              "\n",
              "    .colab-df-convert {\n",
              "      background-color: #E8F0FE;\n",
              "      border: none;\n",
              "      border-radius: 50%;\n",
              "      cursor: pointer;\n",
              "      display: none;\n",
              "      fill: #1967D2;\n",
              "      height: 32px;\n",
              "      padding: 0 0 0 0;\n",
              "      width: 32px;\n",
              "    }\n",
              "\n",
              "    .colab-df-convert:hover {\n",
              "      background-color: #E2EBFA;\n",
              "      box-shadow: 0px 1px 2px rgba(60, 64, 67, 0.3), 0px 1px 3px 1px rgba(60, 64, 67, 0.15);\n",
              "      fill: #174EA6;\n",
              "    }\n",
              "\n",
              "    .colab-df-buttons div {\n",
              "      margin-bottom: 4px;\n",
              "    }\n",
              "\n",
              "    [theme=dark] .colab-df-convert {\n",
              "      background-color: #3B4455;\n",
              "      fill: #D2E3FC;\n",
              "    }\n",
              "\n",
              "    [theme=dark] .colab-df-convert:hover {\n",
              "      background-color: #434B5C;\n",
              "      box-shadow: 0px 1px 3px 1px rgba(0, 0, 0, 0.15);\n",
              "      filter: drop-shadow(0px 1px 2px rgba(0, 0, 0, 0.3));\n",
              "      fill: #FFFFFF;\n",
              "    }\n",
              "  </style>\n",
              "\n",
              "    <script>\n",
              "      const buttonEl =\n",
              "        document.querySelector('#df-333ef2c2-5dbf-46af-8837-ff4a94043957 button.colab-df-convert');\n",
              "      buttonEl.style.display =\n",
              "        google.colab.kernel.accessAllowed ? 'block' : 'none';\n",
              "\n",
              "      async function convertToInteractive(key) {\n",
              "        const element = document.querySelector('#df-333ef2c2-5dbf-46af-8837-ff4a94043957');\n",
              "        const dataTable =\n",
              "          await google.colab.kernel.invokeFunction('convertToInteractive',\n",
              "                                                    [key], {});\n",
              "        if (!dataTable) return;\n",
              "\n",
              "        const docLinkHtml = 'Like what you see? Visit the ' +\n",
              "          '<a target=\"_blank\" href=https://colab.research.google.com/notebooks/data_table.ipynb>data table notebook</a>'\n",
              "          + ' to learn more about interactive tables.';\n",
              "        element.innerHTML = '';\n",
              "        dataTable['output_type'] = 'display_data';\n",
              "        await google.colab.output.renderOutput(dataTable, element);\n",
              "        const docLink = document.createElement('div');\n",
              "        docLink.innerHTML = docLinkHtml;\n",
              "        element.appendChild(docLink);\n",
              "      }\n",
              "    </script>\n",
              "  </div>\n",
              "\n",
              "\n",
              "<div id=\"df-73b41fed-4448-4768-8939-ec71e5c7afff\">\n",
              "  <button class=\"colab-df-quickchart\" onclick=\"quickchart('df-73b41fed-4448-4768-8939-ec71e5c7afff')\"\n",
              "            title=\"Suggest charts\"\n",
              "            style=\"display:none;\">\n",
              "\n",
              "<svg xmlns=\"http://www.w3.org/2000/svg\" height=\"24px\"viewBox=\"0 0 24 24\"\n",
              "     width=\"24px\">\n",
              "    <g>\n",
              "        <path d=\"M19 3H5c-1.1 0-2 .9-2 2v14c0 1.1.9 2 2 2h14c1.1 0 2-.9 2-2V5c0-1.1-.9-2-2-2zM9 17H7v-7h2v7zm4 0h-2V7h2v10zm4 0h-2v-4h2v4z\"/>\n",
              "    </g>\n",
              "</svg>\n",
              "  </button>\n",
              "\n",
              "<style>\n",
              "  .colab-df-quickchart {\n",
              "      --bg-color: #E8F0FE;\n",
              "      --fill-color: #1967D2;\n",
              "      --hover-bg-color: #E2EBFA;\n",
              "      --hover-fill-color: #174EA6;\n",
              "      --disabled-fill-color: #AAA;\n",
              "      --disabled-bg-color: #DDD;\n",
              "  }\n",
              "\n",
              "  [theme=dark] .colab-df-quickchart {\n",
              "      --bg-color: #3B4455;\n",
              "      --fill-color: #D2E3FC;\n",
              "      --hover-bg-color: #434B5C;\n",
              "      --hover-fill-color: #FFFFFF;\n",
              "      --disabled-bg-color: #3B4455;\n",
              "      --disabled-fill-color: #666;\n",
              "  }\n",
              "\n",
              "  .colab-df-quickchart {\n",
              "    background-color: var(--bg-color);\n",
              "    border: none;\n",
              "    border-radius: 50%;\n",
              "    cursor: pointer;\n",
              "    display: none;\n",
              "    fill: var(--fill-color);\n",
              "    height: 32px;\n",
              "    padding: 0;\n",
              "    width: 32px;\n",
              "  }\n",
              "\n",
              "  .colab-df-quickchart:hover {\n",
              "    background-color: var(--hover-bg-color);\n",
              "    box-shadow: 0 1px 2px rgba(60, 64, 67, 0.3), 0 1px 3px 1px rgba(60, 64, 67, 0.15);\n",
              "    fill: var(--button-hover-fill-color);\n",
              "  }\n",
              "\n",
              "  .colab-df-quickchart-complete:disabled,\n",
              "  .colab-df-quickchart-complete:disabled:hover {\n",
              "    background-color: var(--disabled-bg-color);\n",
              "    fill: var(--disabled-fill-color);\n",
              "    box-shadow: none;\n",
              "  }\n",
              "\n",
              "  .colab-df-spinner {\n",
              "    border: 2px solid var(--fill-color);\n",
              "    border-color: transparent;\n",
              "    border-bottom-color: var(--fill-color);\n",
              "    animation:\n",
              "      spin 1s steps(1) infinite;\n",
              "  }\n",
              "\n",
              "  @keyframes spin {\n",
              "    0% {\n",
              "      border-color: transparent;\n",
              "      border-bottom-color: var(--fill-color);\n",
              "      border-left-color: var(--fill-color);\n",
              "    }\n",
              "    20% {\n",
              "      border-color: transparent;\n",
              "      border-left-color: var(--fill-color);\n",
              "      border-top-color: var(--fill-color);\n",
              "    }\n",
              "    30% {\n",
              "      border-color: transparent;\n",
              "      border-left-color: var(--fill-color);\n",
              "      border-top-color: var(--fill-color);\n",
              "      border-right-color: var(--fill-color);\n",
              "    }\n",
              "    40% {\n",
              "      border-color: transparent;\n",
              "      border-right-color: var(--fill-color);\n",
              "      border-top-color: var(--fill-color);\n",
              "    }\n",
              "    60% {\n",
              "      border-color: transparent;\n",
              "      border-right-color: var(--fill-color);\n",
              "    }\n",
              "    80% {\n",
              "      border-color: transparent;\n",
              "      border-right-color: var(--fill-color);\n",
              "      border-bottom-color: var(--fill-color);\n",
              "    }\n",
              "    90% {\n",
              "      border-color: transparent;\n",
              "      border-bottom-color: var(--fill-color);\n",
              "    }\n",
              "  }\n",
              "</style>\n",
              "\n",
              "  <script>\n",
              "    async function quickchart(key) {\n",
              "      const quickchartButtonEl =\n",
              "        document.querySelector('#' + key + ' button');\n",
              "      quickchartButtonEl.disabled = true;  // To prevent multiple clicks.\n",
              "      quickchartButtonEl.classList.add('colab-df-spinner');\n",
              "      try {\n",
              "        const charts = await google.colab.kernel.invokeFunction(\n",
              "            'suggestCharts', [key], {});\n",
              "      } catch (error) {\n",
              "        console.error('Error during call to suggestCharts:', error);\n",
              "      }\n",
              "      quickchartButtonEl.classList.remove('colab-df-spinner');\n",
              "      quickchartButtonEl.classList.add('colab-df-quickchart-complete');\n",
              "    }\n",
              "    (() => {\n",
              "      let quickchartButtonEl =\n",
              "        document.querySelector('#df-73b41fed-4448-4768-8939-ec71e5c7afff button');\n",
              "      quickchartButtonEl.style.display =\n",
              "        google.colab.kernel.accessAllowed ? 'block' : 'none';\n",
              "    })();\n",
              "  </script>\n",
              "</div>\n",
              "\n",
              "    </div>\n",
              "  </div>\n"
            ],
            "application/vnd.google.colaboratory.intrinsic+json": {
              "type": "dataframe",
              "variable_name": "database_teste",
              "summary": "{\n  \"name\": \"database_teste\",\n  \"rows\": 22,\n  \"fields\": [\n    {\n      \"column\": \"Date\",\n      \"properties\": {\n        \"dtype\": \"object\",\n        \"num_unique_values\": 22,\n        \"samples\": [\n          \"2018-01-02\",\n          \"2018-01-19\",\n          \"2018-01-12\"\n        ],\n        \"semantic_type\": \"\",\n        \"description\": \"\"\n      }\n    },\n    {\n      \"column\": \"Open\",\n      \"properties\": {\n        \"dtype\": \"number\",\n        \"std\": 1.1780237445700785,\n        \"min\": 16.190001,\n        \"max\": 19.77,\n        \"num_unique_values\": 22,\n        \"samples\": [\n          16.190001,\n          18.309999,\n          17.040001\n        ],\n        \"semantic_type\": \"\",\n        \"description\": \"\"\n      }\n    },\n    {\n      \"column\": \"High\",\n      \"properties\": {\n        \"dtype\": \"number\",\n        \"std\": 1.1915960988402048,\n        \"min\": 16.549999,\n        \"max\": 20.049999,\n        \"num_unique_values\": 22,\n        \"samples\": [\n          16.549999,\n          18.42,\n          17.41\n        ],\n        \"semantic_type\": \"\",\n        \"description\": \"\"\n      }\n    },\n    {\n      \"column\": \"Low\",\n      \"properties\": {\n        \"dtype\": \"number\",\n        \"std\": 1.1190535030288409,\n        \"min\": 16.190001,\n        \"max\": 19.68,\n        \"num_unique_values\": 22,\n        \"samples\": [\n          16.190001,\n          18.030001,\n          17.02\n        ],\n        \"semantic_type\": \"\",\n        \"description\": \"\"\n      }\n    },\n    {\n      \"column\": \"Close\",\n      \"properties\": {\n        \"dtype\": \"number\",\n        \"std\": 1.1559037852980143,\n        \"min\": 16.549999,\n        \"max\": 19.93,\n        \"num_unique_values\": 20,\n        \"samples\": [\n          16.549999,\n          19.85,\n          19.34\n        ],\n        \"semantic_type\": \"\",\n        \"description\": \"\"\n      }\n    },\n    {\n      \"column\": \"Adj Close\",\n      \"properties\": {\n        \"dtype\": \"number\",\n        \"std\": 1.1535965436817561,\n        \"min\": 16.516966,\n        \"max\": 19.890221,\n        \"num_unique_values\": 20,\n        \"samples\": [\n          16.516966,\n          19.810381,\n          19.301397\n        ],\n        \"semantic_type\": \"\",\n        \"description\": \"\"\n      }\n    },\n    {\n      \"column\": \"Volume\",\n      \"properties\": {\n        \"dtype\": \"number\",\n        \"std\": 19199636,\n        \"min\": 0,\n        \"max\": 89768200,\n        \"num_unique_values\": 22,\n        \"samples\": [\n          33461800,\n          33470200,\n          45912100\n        ],\n        \"semantic_type\": \"\",\n        \"description\": \"\"\n      }\n    }\n  ]\n}"
            }
          },
          "metadata": {},
          "execution_count": 114
        }
      ]
    },
    {
      "cell_type": "code",
      "source": [
        "database_teste.isnull().sum(), database_treinamento.isnull().sum()"
      ],
      "metadata": {
        "colab": {
          "base_uri": "https://localhost:8080/"
        },
        "id": "MmZD9gKmKwiF",
        "outputId": "9dde9be4-86a9-47ff-863d-9529c35c2dd2"
      },
      "execution_count": 115,
      "outputs": [
        {
          "output_type": "execute_result",
          "data": {
            "text/plain": [
              "(Date         0\n",
              " Open         0\n",
              " High         0\n",
              " Low          0\n",
              " Close        0\n",
              " Adj Close    0\n",
              " Volume       0\n",
              " dtype: int64,\n",
              " Date         0\n",
              " Open         3\n",
              " High         3\n",
              " Low          3\n",
              " Close        3\n",
              " Adj Close    3\n",
              " Volume       3\n",
              " dtype: int64)"
            ]
          },
          "metadata": {},
          "execution_count": 115
        }
      ]
    },
    {
      "cell_type": "code",
      "source": [
        "database_treinamento = database_treinamento.dropna()\n",
        "database_teste.isnull().sum(), database_treinamento.isnull().sum()"
      ],
      "metadata": {
        "colab": {
          "base_uri": "https://localhost:8080/"
        },
        "id": "uh7n19-PK1PO",
        "outputId": "9c5c98d2-78b9-4c03-ef9f-078f955952d5"
      },
      "execution_count": 116,
      "outputs": [
        {
          "output_type": "execute_result",
          "data": {
            "text/plain": [
              "(Date         0\n",
              " Open         0\n",
              " High         0\n",
              " Low          0\n",
              " Close        0\n",
              " Adj Close    0\n",
              " Volume       0\n",
              " dtype: int64,\n",
              " Date         0\n",
              " Open         0\n",
              " High         0\n",
              " Low          0\n",
              " Close        0\n",
              " Adj Close    0\n",
              " Volume       0\n",
              " dtype: int64)"
            ]
          },
          "metadata": {},
          "execution_count": 116
        }
      ]
    },
    {
      "cell_type": "code",
      "source": [
        "database_treinamento.shape, database_teste.shape"
      ],
      "metadata": {
        "colab": {
          "base_uri": "https://localhost:8080/"
        },
        "id": "6W2BbbFMK-ya",
        "outputId": "18bf6606-39e6-4846-a613-6bd298dc0948"
      },
      "execution_count": 117,
      "outputs": [
        {
          "output_type": "execute_result",
          "data": {
            "text/plain": [
              "((1242, 7), (22, 7))"
            ]
          },
          "metadata": {},
          "execution_count": 117
        }
      ]
    },
    {
      "cell_type": "code",
      "source": [
        "base_treinamento = database_treinamento.iloc[:, 1:2].values\n",
        "base_teste = database_teste.iloc[:, 1:2].values"
      ],
      "metadata": {
        "id": "9_kKXLgGLAvE"
      },
      "execution_count": 118,
      "outputs": []
    },
    {
      "cell_type": "code",
      "source": [
        "base_treinamento, base_teste"
      ],
      "metadata": {
        "colab": {
          "base_uri": "https://localhost:8080/"
        },
        "id": "xODBLUYqLXAr",
        "outputId": "cb7633b1-9a34-4c65-9f79-6edf3fac7c5c"
      },
      "execution_count": 119,
      "outputs": [
        {
          "output_type": "execute_result",
          "data": {
            "text/plain": [
              "(array([[19.99    ],\n",
              "        [19.809999],\n",
              "        [20.33    ],\n",
              "        ...,\n",
              "        [15.99    ],\n",
              "        [16.1     ],\n",
              "        [16.1     ]]),\n",
              " array([[16.190001],\n",
              "        [16.49    ],\n",
              "        [16.780001],\n",
              "        [16.700001],\n",
              "        [16.74    ],\n",
              "        [17.030001],\n",
              "        [16.92    ],\n",
              "        [16.879999],\n",
              "        [17.040001],\n",
              "        [17.32    ],\n",
              "        [17.35    ],\n",
              "        [17.92    ],\n",
              "        [18.35    ],\n",
              "        [18.309999],\n",
              "        [18.26    ],\n",
              "        [18.4     ],\n",
              "        [18.42    ],\n",
              "        [19.34    ],\n",
              "        [19.620001],\n",
              "        [19.67    ],\n",
              "        [19.77    ],\n",
              "        [19.74    ]]))"
            ]
          },
          "metadata": {},
          "execution_count": 119
        }
      ]
    },
    {
      "cell_type": "code",
      "source": [
        "normalizador = MinMaxScaler(feature_range=(0, 1))\n",
        "base_treinamento_normalizada = normalizador.fit_transform(base_treinamento)\n",
        "base_teste_normalizada = normalizador.transform(base_teste)"
      ],
      "metadata": {
        "id": "ceDnX2b7Lco5"
      },
      "execution_count": 120,
      "outputs": []
    },
    {
      "cell_type": "code",
      "source": [
        "base_treinamento_normalizada, base_teste_normalizada"
      ],
      "metadata": {
        "colab": {
          "base_uri": "https://localhost:8080/"
        },
        "id": "SEAK2kdxLlEO",
        "outputId": "c5a108d1-e34b-459a-db70-12fdb6186165"
      },
      "execution_count": 121,
      "outputs": [
        {
          "output_type": "execute_result",
          "data": {
            "text/plain": [
              "(array([[0.76501938],\n",
              "        [0.7562984 ],\n",
              "        [0.78149225],\n",
              "        ...,\n",
              "        [0.57122093],\n",
              "        [0.57655039],\n",
              "        [0.57655039]]),\n",
              " array([[0.5809109 ],\n",
              "        [0.59544574],\n",
              "        [0.60949617],\n",
              "        [0.6056202 ],\n",
              "        [0.60755814],\n",
              "        [0.62160858],\n",
              "        [0.61627907],\n",
              "        [0.61434104],\n",
              "        [0.62209307],\n",
              "        [0.63565891],\n",
              "        [0.6371124 ],\n",
              "        [0.66472868],\n",
              "        [0.68556202],\n",
              "        [0.68362398],\n",
              "        [0.68120155],\n",
              "        [0.6879845 ],\n",
              "        [0.68895349],\n",
              "        [0.73352713],\n",
              "        [0.74709307],\n",
              "        [0.7495155 ],\n",
              "        [0.75436047],\n",
              "        [0.75290698]]))"
            ]
          },
          "metadata": {},
          "execution_count": 121
        }
      ]
    },
    {
      "cell_type": "code",
      "source": [
        "base_treinamento_normalizada.shape, base_teste_normalizada.shape"
      ],
      "metadata": {
        "colab": {
          "base_uri": "https://localhost:8080/"
        },
        "id": "V5lPRGfdm4xK",
        "outputId": "421d4ef8-a8dd-4520-afcd-62ac22bcca55"
      },
      "execution_count": 122,
      "outputs": [
        {
          "output_type": "execute_result",
          "data": {
            "text/plain": [
              "((1242, 1), (22, 1))"
            ]
          },
          "metadata": {},
          "execution_count": 122
        }
      ]
    },
    {
      "cell_type": "code",
      "source": [
        "x = []\n",
        "y = []\n",
        "for i in range(90, 1242):\n",
        "    x.append(base_treinamento_normalizada[i-90:i, 0])\n",
        "    y.append(base_treinamento_normalizada[i, 0])\n",
        "\n",
        "x = np.array(x)\n",
        "y = np.array(y)\n",
        "x.shape, y.shape"
      ],
      "metadata": {
        "colab": {
          "base_uri": "https://localhost:8080/"
        },
        "id": "m_d0mhuzkPDf",
        "outputId": "c3d4bbf1-b449-4dc0-d93b-73e05d22631b"
      },
      "execution_count": 123,
      "outputs": [
        {
          "output_type": "execute_result",
          "data": {
            "text/plain": [
              "((1152, 90), (1152,))"
            ]
          },
          "metadata": {},
          "execution_count": 123
        }
      ]
    },
    {
      "cell_type": "code",
      "source": [
        "x[0], y[0]"
      ],
      "metadata": {
        "colab": {
          "base_uri": "https://localhost:8080/"
        },
        "id": "jZkfw8kjodpm",
        "outputId": "b6a45e1b-6e5a-4cff-f877-c4aee9bedbad"
      },
      "execution_count": 124,
      "outputs": [
        {
          "output_type": "execute_result",
          "data": {
            "text/plain": [
              "(array([0.76501938, 0.7562984 , 0.78149225, 0.78875969, 0.77083338,\n",
              "        0.74806197, 0.75436047, 0.75823643, 0.76598837, 0.76598837,\n",
              "        0.76017437, 0.75872098, 0.75581391, 0.74467054, 0.7374031 ,\n",
              "        0.7374031 , 0.73498067, 0.75242248, 0.73401163, 0.71656977,\n",
              "        0.68120155, 0.67538755, 0.67635659, 0.63372098, 0.66521318,\n",
              "        0.65649225, 0.64680228, 0.66618222, 0.65843028, 0.64970935,\n",
              "        0.65116274, 0.66424419, 0.67344961, 0.64292631, 0.64486434,\n",
              "        0.62257747, 0.60949617, 0.60998067, 0.60852713, 0.59593023,\n",
              "        0.61143411, 0.60222863, 0.64922481, 0.68362398, 0.70687989,\n",
              "        0.68265509, 0.70978682, 0.70784879, 0.71608527, 0.73643411,\n",
              "        0.7122093 , 0.7122093 , 0.7194767 , 0.70348832, 0.69525189,\n",
              "        0.70397287, 0.70397287, 0.69767442, 0.68168605, 0.68168605,\n",
              "        0.65310078, 0.66618222, 0.64825581, 0.66182175, 0.64341085,\n",
              "        0.67877902, 0.69137592, 0.66569772, 0.65406982, 0.64292631,\n",
              "        0.64147292, 0.63565891, 0.67587209, 0.68653106, 0.70300383,\n",
              "        0.71996119, 0.73982553, 0.76550388, 0.74854651, 0.75823643,\n",
              "        0.78924419, 0.76598837, 0.78488372, 0.80184109, 0.77761628,\n",
              "        0.77325581, 0.7562984 , 0.74273261, 0.74127907, 0.74224806]),\n",
              " 0.7611434108527131)"
            ]
          },
          "metadata": {},
          "execution_count": 124
        }
      ]
    },
    {
      "cell_type": "code",
      "source": [
        "net = Sequential()\n",
        "\n",
        "net.add(LSTM(units=100, return_sequences=True, input_shape=(x.shape[1], 1)))\n",
        "net.add(Dropout(0.3))\n",
        "\n",
        "net.add(LSTM(units=50, return_sequences=True))\n",
        "net.add(Dropout(0.3))\n",
        "\n",
        "net.add(LSTM(units=50, return_sequences=True))\n",
        "net.add(Dropout(0.3))\n",
        "\n",
        "net.add(LSTM(units=50))\n",
        "net.add(Dropout(0.3))\n",
        "\n",
        "net.add(Dense(units=1, activation='linear'))\n",
        "\n",
        "net.summary()"
      ],
      "metadata": {
        "colab": {
          "base_uri": "https://localhost:8080/",
          "height": 497
        },
        "id": "VmmRpJY3pEix",
        "outputId": "120f6c01-07a3-452f-eaba-edfb65b63c83"
      },
      "execution_count": 125,
      "outputs": [
        {
          "output_type": "stream",
          "name": "stderr",
          "text": [
            "/usr/local/lib/python3.10/dist-packages/keras/src/layers/rnn/rnn.py:204: UserWarning: Do not pass an `input_shape`/`input_dim` argument to a layer. When using Sequential models, prefer using an `Input(shape)` object as the first layer in the model instead.\n",
            "  super().__init__(**kwargs)\n"
          ]
        },
        {
          "output_type": "display_data",
          "data": {
            "text/plain": [
              "\u001b[1mModel: \"sequential_2\"\u001b[0m\n"
            ],
            "text/html": [
              "<pre style=\"white-space:pre;overflow-x:auto;line-height:normal;font-family:Menlo,'DejaVu Sans Mono',consolas,'Courier New',monospace\"><span style=\"font-weight: bold\">Model: \"sequential_2\"</span>\n",
              "</pre>\n"
            ]
          },
          "metadata": {}
        },
        {
          "output_type": "display_data",
          "data": {
            "text/plain": [
              "┏━━━━━━━━━━━━━━━━━━━━━━━━━━━━━━━━━━━━━━┳━━━━━━━━━━━━━━━━━━━━━━━━━━━━━┳━━━━━━━━━━━━━━━━━┓\n",
              "┃\u001b[1m \u001b[0m\u001b[1mLayer (type)                        \u001b[0m\u001b[1m \u001b[0m┃\u001b[1m \u001b[0m\u001b[1mOutput Shape               \u001b[0m\u001b[1m \u001b[0m┃\u001b[1m \u001b[0m\u001b[1m        Param #\u001b[0m\u001b[1m \u001b[0m┃\n",
              "┡━━━━━━━━━━━━━━━━━━━━━━━━━━━━━━━━━━━━━━╇━━━━━━━━━━━━━━━━━━━━━━━━━━━━━╇━━━━━━━━━━━━━━━━━┩\n",
              "│ lstm_8 (\u001b[38;5;33mLSTM\u001b[0m)                        │ (\u001b[38;5;45mNone\u001b[0m, \u001b[38;5;34m90\u001b[0m, \u001b[38;5;34m100\u001b[0m)             │          \u001b[38;5;34m40,800\u001b[0m │\n",
              "├──────────────────────────────────────┼─────────────────────────────┼─────────────────┤\n",
              "│ dropout_8 (\u001b[38;5;33mDropout\u001b[0m)                  │ (\u001b[38;5;45mNone\u001b[0m, \u001b[38;5;34m90\u001b[0m, \u001b[38;5;34m100\u001b[0m)             │               \u001b[38;5;34m0\u001b[0m │\n",
              "├──────────────────────────────────────┼─────────────────────────────┼─────────────────┤\n",
              "│ lstm_9 (\u001b[38;5;33mLSTM\u001b[0m)                        │ (\u001b[38;5;45mNone\u001b[0m, \u001b[38;5;34m90\u001b[0m, \u001b[38;5;34m50\u001b[0m)              │          \u001b[38;5;34m30,200\u001b[0m │\n",
              "├──────────────────────────────────────┼─────────────────────────────┼─────────────────┤\n",
              "│ dropout_9 (\u001b[38;5;33mDropout\u001b[0m)                  │ (\u001b[38;5;45mNone\u001b[0m, \u001b[38;5;34m90\u001b[0m, \u001b[38;5;34m50\u001b[0m)              │               \u001b[38;5;34m0\u001b[0m │\n",
              "├──────────────────────────────────────┼─────────────────────────────┼─────────────────┤\n",
              "│ lstm_10 (\u001b[38;5;33mLSTM\u001b[0m)                       │ (\u001b[38;5;45mNone\u001b[0m, \u001b[38;5;34m90\u001b[0m, \u001b[38;5;34m50\u001b[0m)              │          \u001b[38;5;34m20,200\u001b[0m │\n",
              "├──────────────────────────────────────┼─────────────────────────────┼─────────────────┤\n",
              "│ dropout_10 (\u001b[38;5;33mDropout\u001b[0m)                 │ (\u001b[38;5;45mNone\u001b[0m, \u001b[38;5;34m90\u001b[0m, \u001b[38;5;34m50\u001b[0m)              │               \u001b[38;5;34m0\u001b[0m │\n",
              "├──────────────────────────────────────┼─────────────────────────────┼─────────────────┤\n",
              "│ lstm_11 (\u001b[38;5;33mLSTM\u001b[0m)                       │ (\u001b[38;5;45mNone\u001b[0m, \u001b[38;5;34m50\u001b[0m)                  │          \u001b[38;5;34m20,200\u001b[0m │\n",
              "├──────────────────────────────────────┼─────────────────────────────┼─────────────────┤\n",
              "│ dropout_11 (\u001b[38;5;33mDropout\u001b[0m)                 │ (\u001b[38;5;45mNone\u001b[0m, \u001b[38;5;34m50\u001b[0m)                  │               \u001b[38;5;34m0\u001b[0m │\n",
              "├──────────────────────────────────────┼─────────────────────────────┼─────────────────┤\n",
              "│ dense_2 (\u001b[38;5;33mDense\u001b[0m)                      │ (\u001b[38;5;45mNone\u001b[0m, \u001b[38;5;34m1\u001b[0m)                   │              \u001b[38;5;34m51\u001b[0m │\n",
              "└──────────────────────────────────────┴─────────────────────────────┴─────────────────┘\n"
            ],
            "text/html": [
              "<pre style=\"white-space:pre;overflow-x:auto;line-height:normal;font-family:Menlo,'DejaVu Sans Mono',consolas,'Courier New',monospace\">┏━━━━━━━━━━━━━━━━━━━━━━━━━━━━━━━━━━━━━━┳━━━━━━━━━━━━━━━━━━━━━━━━━━━━━┳━━━━━━━━━━━━━━━━━┓\n",
              "┃<span style=\"font-weight: bold\"> Layer (type)                         </span>┃<span style=\"font-weight: bold\"> Output Shape                </span>┃<span style=\"font-weight: bold\">         Param # </span>┃\n",
              "┡━━━━━━━━━━━━━━━━━━━━━━━━━━━━━━━━━━━━━━╇━━━━━━━━━━━━━━━━━━━━━━━━━━━━━╇━━━━━━━━━━━━━━━━━┩\n",
              "│ lstm_8 (<span style=\"color: #0087ff; text-decoration-color: #0087ff\">LSTM</span>)                        │ (<span style=\"color: #00d7ff; text-decoration-color: #00d7ff\">None</span>, <span style=\"color: #00af00; text-decoration-color: #00af00\">90</span>, <span style=\"color: #00af00; text-decoration-color: #00af00\">100</span>)             │          <span style=\"color: #00af00; text-decoration-color: #00af00\">40,800</span> │\n",
              "├──────────────────────────────────────┼─────────────────────────────┼─────────────────┤\n",
              "│ dropout_8 (<span style=\"color: #0087ff; text-decoration-color: #0087ff\">Dropout</span>)                  │ (<span style=\"color: #00d7ff; text-decoration-color: #00d7ff\">None</span>, <span style=\"color: #00af00; text-decoration-color: #00af00\">90</span>, <span style=\"color: #00af00; text-decoration-color: #00af00\">100</span>)             │               <span style=\"color: #00af00; text-decoration-color: #00af00\">0</span> │\n",
              "├──────────────────────────────────────┼─────────────────────────────┼─────────────────┤\n",
              "│ lstm_9 (<span style=\"color: #0087ff; text-decoration-color: #0087ff\">LSTM</span>)                        │ (<span style=\"color: #00d7ff; text-decoration-color: #00d7ff\">None</span>, <span style=\"color: #00af00; text-decoration-color: #00af00\">90</span>, <span style=\"color: #00af00; text-decoration-color: #00af00\">50</span>)              │          <span style=\"color: #00af00; text-decoration-color: #00af00\">30,200</span> │\n",
              "├──────────────────────────────────────┼─────────────────────────────┼─────────────────┤\n",
              "│ dropout_9 (<span style=\"color: #0087ff; text-decoration-color: #0087ff\">Dropout</span>)                  │ (<span style=\"color: #00d7ff; text-decoration-color: #00d7ff\">None</span>, <span style=\"color: #00af00; text-decoration-color: #00af00\">90</span>, <span style=\"color: #00af00; text-decoration-color: #00af00\">50</span>)              │               <span style=\"color: #00af00; text-decoration-color: #00af00\">0</span> │\n",
              "├──────────────────────────────────────┼─────────────────────────────┼─────────────────┤\n",
              "│ lstm_10 (<span style=\"color: #0087ff; text-decoration-color: #0087ff\">LSTM</span>)                       │ (<span style=\"color: #00d7ff; text-decoration-color: #00d7ff\">None</span>, <span style=\"color: #00af00; text-decoration-color: #00af00\">90</span>, <span style=\"color: #00af00; text-decoration-color: #00af00\">50</span>)              │          <span style=\"color: #00af00; text-decoration-color: #00af00\">20,200</span> │\n",
              "├──────────────────────────────────────┼─────────────────────────────┼─────────────────┤\n",
              "│ dropout_10 (<span style=\"color: #0087ff; text-decoration-color: #0087ff\">Dropout</span>)                 │ (<span style=\"color: #00d7ff; text-decoration-color: #00d7ff\">None</span>, <span style=\"color: #00af00; text-decoration-color: #00af00\">90</span>, <span style=\"color: #00af00; text-decoration-color: #00af00\">50</span>)              │               <span style=\"color: #00af00; text-decoration-color: #00af00\">0</span> │\n",
              "├──────────────────────────────────────┼─────────────────────────────┼─────────────────┤\n",
              "│ lstm_11 (<span style=\"color: #0087ff; text-decoration-color: #0087ff\">LSTM</span>)                       │ (<span style=\"color: #00d7ff; text-decoration-color: #00d7ff\">None</span>, <span style=\"color: #00af00; text-decoration-color: #00af00\">50</span>)                  │          <span style=\"color: #00af00; text-decoration-color: #00af00\">20,200</span> │\n",
              "├──────────────────────────────────────┼─────────────────────────────┼─────────────────┤\n",
              "│ dropout_11 (<span style=\"color: #0087ff; text-decoration-color: #0087ff\">Dropout</span>)                 │ (<span style=\"color: #00d7ff; text-decoration-color: #00d7ff\">None</span>, <span style=\"color: #00af00; text-decoration-color: #00af00\">50</span>)                  │               <span style=\"color: #00af00; text-decoration-color: #00af00\">0</span> │\n",
              "├──────────────────────────────────────┼─────────────────────────────┼─────────────────┤\n",
              "│ dense_2 (<span style=\"color: #0087ff; text-decoration-color: #0087ff\">Dense</span>)                      │ (<span style=\"color: #00d7ff; text-decoration-color: #00d7ff\">None</span>, <span style=\"color: #00af00; text-decoration-color: #00af00\">1</span>)                   │              <span style=\"color: #00af00; text-decoration-color: #00af00\">51</span> │\n",
              "└──────────────────────────────────────┴─────────────────────────────┴─────────────────┘\n",
              "</pre>\n"
            ]
          },
          "metadata": {}
        },
        {
          "output_type": "display_data",
          "data": {
            "text/plain": [
              "\u001b[1m Total params: \u001b[0m\u001b[38;5;34m111,451\u001b[0m (435.36 KB)\n"
            ],
            "text/html": [
              "<pre style=\"white-space:pre;overflow-x:auto;line-height:normal;font-family:Menlo,'DejaVu Sans Mono',consolas,'Courier New',monospace\"><span style=\"font-weight: bold\"> Total params: </span><span style=\"color: #00af00; text-decoration-color: #00af00\">111,451</span> (435.36 KB)\n",
              "</pre>\n"
            ]
          },
          "metadata": {}
        },
        {
          "output_type": "display_data",
          "data": {
            "text/plain": [
              "\u001b[1m Trainable params: \u001b[0m\u001b[38;5;34m111,451\u001b[0m (435.36 KB)\n"
            ],
            "text/html": [
              "<pre style=\"white-space:pre;overflow-x:auto;line-height:normal;font-family:Menlo,'DejaVu Sans Mono',consolas,'Courier New',monospace\"><span style=\"font-weight: bold\"> Trainable params: </span><span style=\"color: #00af00; text-decoration-color: #00af00\">111,451</span> (435.36 KB)\n",
              "</pre>\n"
            ]
          },
          "metadata": {}
        },
        {
          "output_type": "display_data",
          "data": {
            "text/plain": [
              "\u001b[1m Non-trainable params: \u001b[0m\u001b[38;5;34m0\u001b[0m (0.00 B)\n"
            ],
            "text/html": [
              "<pre style=\"white-space:pre;overflow-x:auto;line-height:normal;font-family:Menlo,'DejaVu Sans Mono',consolas,'Courier New',monospace\"><span style=\"font-weight: bold\"> Non-trainable params: </span><span style=\"color: #00af00; text-decoration-color: #00af00\">0</span> (0.00 B)\n",
              "</pre>\n"
            ]
          },
          "metadata": {}
        }
      ]
    },
    {
      "cell_type": "code",
      "source": [
        "net.compile(optimizer='rmsprop', loss='mean_squared_error', metrics=['mean_absolute_error'])"
      ],
      "metadata": {
        "id": "6DnHgefgqbF9"
      },
      "execution_count": 126,
      "outputs": []
    },
    {
      "cell_type": "code",
      "source": [
        "net.fit(x, y, epochs=100, batch_size=32)"
      ],
      "metadata": {
        "colab": {
          "base_uri": "https://localhost:8080/"
        },
        "id": "tDwJvr3Tqrqn",
        "outputId": "d709656a-aa7c-4bac-fc76-a77c032bcf20"
      },
      "execution_count": 127,
      "outputs": [
        {
          "output_type": "stream",
          "name": "stdout",
          "text": [
            "Epoch 1/100\n",
            "\u001b[1m36/36\u001b[0m \u001b[32m━━━━━━━━━━━━━━━━━━━━\u001b[0m\u001b[37m\u001b[0m \u001b[1m4s\u001b[0m 34ms/step - loss: 0.0608 - mean_absolute_error: 0.1806\n",
            "Epoch 2/100\n",
            "\u001b[1m36/36\u001b[0m \u001b[32m━━━━━━━━━━━━━━━━━━━━\u001b[0m\u001b[37m\u001b[0m \u001b[1m1s\u001b[0m 17ms/step - loss: 0.0137 - mean_absolute_error: 0.0927  \n",
            "Epoch 3/100\n",
            "\u001b[1m36/36\u001b[0m \u001b[32m━━━━━━━━━━━━━━━━━━━━\u001b[0m\u001b[37m\u001b[0m \u001b[1m1s\u001b[0m 34ms/step - loss: 0.0109 - mean_absolute_error: 0.0835\n",
            "Epoch 4/100\n",
            "\u001b[1m36/36\u001b[0m \u001b[32m━━━━━━━━━━━━━━━━━━━━\u001b[0m\u001b[37m\u001b[0m \u001b[1m1s\u001b[0m 36ms/step - loss: 0.0128 - mean_absolute_error: 0.0868\n",
            "Epoch 5/100\n",
            "\u001b[1m36/36\u001b[0m \u001b[32m━━━━━━━━━━━━━━━━━━━━\u001b[0m\u001b[37m\u001b[0m \u001b[1m1s\u001b[0m 31ms/step - loss: 0.0095 - mean_absolute_error: 0.0747\n",
            "Epoch 6/100\n",
            "\u001b[1m36/36\u001b[0m \u001b[32m━━━━━━━━━━━━━━━━━━━━\u001b[0m\u001b[37m\u001b[0m \u001b[1m1s\u001b[0m 17ms/step - loss: 0.0081 - mean_absolute_error: 0.0692 \n",
            "Epoch 7/100\n",
            "\u001b[1m36/36\u001b[0m \u001b[32m━━━━━━━━━━━━━━━━━━━━\u001b[0m\u001b[37m\u001b[0m \u001b[1m1s\u001b[0m 30ms/step - loss: 0.0117 - mean_absolute_error: 0.0830\n",
            "Epoch 8/100\n",
            "\u001b[1m36/36\u001b[0m \u001b[32m━━━━━━━━━━━━━━━━━━━━\u001b[0m\u001b[37m\u001b[0m \u001b[1m1s\u001b[0m 31ms/step - loss: 0.0079 - mean_absolute_error: 0.0701\n",
            "Epoch 9/100\n",
            "\u001b[1m36/36\u001b[0m \u001b[32m━━━━━━━━━━━━━━━━━━━━\u001b[0m\u001b[37m\u001b[0m \u001b[1m1s\u001b[0m 32ms/step - loss: 0.0096 - mean_absolute_error: 0.0747\n",
            "Epoch 10/100\n",
            "\u001b[1m36/36\u001b[0m \u001b[32m━━━━━━━━━━━━━━━━━━━━\u001b[0m\u001b[37m\u001b[0m \u001b[1m1s\u001b[0m 33ms/step - loss: 0.0083 - mean_absolute_error: 0.0700\n",
            "Epoch 11/100\n",
            "\u001b[1m36/36\u001b[0m \u001b[32m━━━━━━━━━━━━━━━━━━━━\u001b[0m\u001b[37m\u001b[0m \u001b[1m1s\u001b[0m 18ms/step - loss: 0.0062 - mean_absolute_error: 0.0600 \n",
            "Epoch 12/100\n",
            "\u001b[1m36/36\u001b[0m \u001b[32m━━━━━━━━━━━━━━━━━━━━\u001b[0m\u001b[37m\u001b[0m \u001b[1m1s\u001b[0m 31ms/step - loss: 0.0062 - mean_absolute_error: 0.0606\n",
            "Epoch 13/100\n",
            "\u001b[1m36/36\u001b[0m \u001b[32m━━━━━━━━━━━━━━━━━━━━\u001b[0m\u001b[37m\u001b[0m \u001b[1m1s\u001b[0m 32ms/step - loss: 0.0048 - mean_absolute_error: 0.0528\n",
            "Epoch 14/100\n",
            "\u001b[1m36/36\u001b[0m \u001b[32m━━━━━━━━━━━━━━━━━━━━\u001b[0m\u001b[37m\u001b[0m \u001b[1m1s\u001b[0m 31ms/step - loss: 0.0061 - mean_absolute_error: 0.0592\n",
            "Epoch 15/100\n",
            "\u001b[1m36/36\u001b[0m \u001b[32m━━━━━━━━━━━━━━━━━━━━\u001b[0m\u001b[37m\u001b[0m \u001b[1m1s\u001b[0m 34ms/step - loss: 0.0046 - mean_absolute_error: 0.0512\n",
            "Epoch 16/100\n",
            "\u001b[1m36/36\u001b[0m \u001b[32m━━━━━━━━━━━━━━━━━━━━\u001b[0m\u001b[37m\u001b[0m \u001b[1m1s\u001b[0m 15ms/step - loss: 0.0066 - mean_absolute_error: 0.0608\n",
            "Epoch 17/100\n",
            "\u001b[1m36/36\u001b[0m \u001b[32m━━━━━━━━━━━━━━━━━━━━\u001b[0m\u001b[37m\u001b[0m \u001b[1m1s\u001b[0m 32ms/step - loss: 0.0061 - mean_absolute_error: 0.0579\n",
            "Epoch 18/100\n",
            "\u001b[1m36/36\u001b[0m \u001b[32m━━━━━━━━━━━━━━━━━━━━\u001b[0m\u001b[37m\u001b[0m \u001b[1m1s\u001b[0m 35ms/step - loss: 0.0048 - mean_absolute_error: 0.0530\n",
            "Epoch 19/100\n",
            "\u001b[1m36/36\u001b[0m \u001b[32m━━━━━━━━━━━━━━━━━━━━\u001b[0m\u001b[37m\u001b[0m \u001b[1m1s\u001b[0m 34ms/step - loss: 0.0050 - mean_absolute_error: 0.0543\n",
            "Epoch 20/100\n",
            "\u001b[1m36/36\u001b[0m \u001b[32m━━━━━━━━━━━━━━━━━━━━\u001b[0m\u001b[37m\u001b[0m \u001b[1m1s\u001b[0m 18ms/step - loss: 0.0051 - mean_absolute_error: 0.0540 \n",
            "Epoch 21/100\n",
            "\u001b[1m36/36\u001b[0m \u001b[32m━━━━━━━━━━━━━━━━━━━━\u001b[0m\u001b[37m\u001b[0m \u001b[1m1s\u001b[0m 31ms/step - loss: 0.0048 - mean_absolute_error: 0.0516\n",
            "Epoch 22/100\n",
            "\u001b[1m36/36\u001b[0m \u001b[32m━━━━━━━━━━━━━━━━━━━━\u001b[0m\u001b[37m\u001b[0m \u001b[1m1s\u001b[0m 34ms/step - loss: 0.0044 - mean_absolute_error: 0.0491\n",
            "Epoch 23/100\n",
            "\u001b[1m36/36\u001b[0m \u001b[32m━━━━━━━━━━━━━━━━━━━━\u001b[0m\u001b[37m\u001b[0m \u001b[1m1s\u001b[0m 31ms/step - loss: 0.0053 - mean_absolute_error: 0.0548\n",
            "Epoch 24/100\n",
            "\u001b[1m36/36\u001b[0m \u001b[32m━━━━━━━━━━━━━━━━━━━━\u001b[0m\u001b[37m\u001b[0m \u001b[1m1s\u001b[0m 31ms/step - loss: 0.0040 - mean_absolute_error: 0.0480\n",
            "Epoch 25/100\n",
            "\u001b[1m36/36\u001b[0m \u001b[32m━━━━━━━━━━━━━━━━━━━━\u001b[0m\u001b[37m\u001b[0m \u001b[1m1s\u001b[0m 16ms/step - loss: 0.0052 - mean_absolute_error: 0.0557 \n",
            "Epoch 26/100\n",
            "\u001b[1m36/36\u001b[0m \u001b[32m━━━━━━━━━━━━━━━━━━━━\u001b[0m\u001b[37m\u001b[0m \u001b[1m1s\u001b[0m 31ms/step - loss: 0.0042 - mean_absolute_error: 0.0497\n",
            "Epoch 27/100\n",
            "\u001b[1m36/36\u001b[0m \u001b[32m━━━━━━━━━━━━━━━━━━━━\u001b[0m\u001b[37m\u001b[0m \u001b[1m8s\u001b[0m 225ms/step - loss: 0.0037 - mean_absolute_error: 0.0469\n",
            "Epoch 28/100\n",
            "\u001b[1m36/36\u001b[0m \u001b[32m━━━━━━━━━━━━━━━━━━━━\u001b[0m\u001b[37m\u001b[0m \u001b[1m-6s\u001b[0m 32ms/step - loss: 0.0039 - mean_absolute_error: 0.0465\n",
            "Epoch 29/100\n",
            "\u001b[1m36/36\u001b[0m \u001b[32m━━━━━━━━━━━━━━━━━━━━\u001b[0m\u001b[37m\u001b[0m \u001b[1m1s\u001b[0m 30ms/step - loss: 0.0041 - mean_absolute_error: 0.0476\n",
            "Epoch 30/100\n",
            "\u001b[1m36/36\u001b[0m \u001b[32m━━━━━━━━━━━━━━━━━━━━\u001b[0m\u001b[37m\u001b[0m \u001b[1m1s\u001b[0m 25ms/step - loss: 0.0039 - mean_absolute_error: 0.0469  \n",
            "Epoch 31/100\n",
            "\u001b[1m36/36\u001b[0m \u001b[32m━━━━━━━━━━━━━━━━━━━━\u001b[0m\u001b[37m\u001b[0m \u001b[1m1s\u001b[0m 34ms/step - loss: 0.0038 - mean_absolute_error: 0.0471\n",
            "Epoch 32/100\n",
            "\u001b[1m36/36\u001b[0m \u001b[32m━━━━━━━━━━━━━━━━━━━━\u001b[0m\u001b[37m\u001b[0m \u001b[1m1s\u001b[0m 33ms/step - loss: 0.0040 - mean_absolute_error: 0.0476\n",
            "Epoch 33/100\n",
            "\u001b[1m36/36\u001b[0m \u001b[32m━━━━━━━━━━━━━━━━━━━━\u001b[0m\u001b[37m\u001b[0m \u001b[1m1s\u001b[0m 32ms/step - loss: 0.0038 - mean_absolute_error: 0.0466\n",
            "Epoch 34/100\n",
            "\u001b[1m36/36\u001b[0m \u001b[32m━━━━━━━━━━━━━━━━━━━━\u001b[0m\u001b[37m\u001b[0m \u001b[1m1s\u001b[0m 19ms/step - loss: 0.0036 - mean_absolute_error: 0.0461 \n",
            "Epoch 35/100\n",
            "\u001b[1m36/36\u001b[0m \u001b[32m━━━━━━━━━━━━━━━━━━━━\u001b[0m\u001b[37m\u001b[0m \u001b[1m1s\u001b[0m 33ms/step - loss: 0.0032 - mean_absolute_error: 0.0440\n",
            "Epoch 36/100\n",
            "\u001b[1m36/36\u001b[0m \u001b[32m━━━━━━━━━━━━━━━━━━━━\u001b[0m\u001b[37m\u001b[0m \u001b[1m1s\u001b[0m 33ms/step - loss: 0.0033 - mean_absolute_error: 0.0441\n",
            "Epoch 37/100\n",
            "\u001b[1m36/36\u001b[0m \u001b[32m━━━━━━━━━━━━━━━━━━━━\u001b[0m\u001b[37m\u001b[0m \u001b[1m1s\u001b[0m 35ms/step - loss: 0.0037 - mean_absolute_error: 0.0457\n",
            "Epoch 38/100\n",
            "\u001b[1m36/36\u001b[0m \u001b[32m━━━━━━━━━━━━━━━━━━━━\u001b[0m\u001b[37m\u001b[0m \u001b[1m1s\u001b[0m 32ms/step - loss: 0.0031 - mean_absolute_error: 0.0429\n",
            "Epoch 39/100\n",
            "\u001b[1m36/36\u001b[0m \u001b[32m━━━━━━━━━━━━━━━━━━━━\u001b[0m\u001b[37m\u001b[0m \u001b[1m1s\u001b[0m 18ms/step - loss: 0.0032 - mean_absolute_error: 0.0436  \n",
            "Epoch 40/100\n",
            "\u001b[1m36/36\u001b[0m \u001b[32m━━━━━━━━━━━━━━━━━━━━\u001b[0m\u001b[37m\u001b[0m \u001b[1m1s\u001b[0m 34ms/step - loss: 0.0030 - mean_absolute_error: 0.0413\n",
            "Epoch 41/100\n",
            "\u001b[1m36/36\u001b[0m \u001b[32m━━━━━━━━━━━━━━━━━━━━\u001b[0m\u001b[37m\u001b[0m \u001b[1m1s\u001b[0m 31ms/step - loss: 0.0029 - mean_absolute_error: 0.0407\n",
            "Epoch 42/100\n",
            "\u001b[1m36/36\u001b[0m \u001b[32m━━━━━━━━━━━━━━━━━━━━\u001b[0m\u001b[37m\u001b[0m \u001b[1m1s\u001b[0m 30ms/step - loss: 0.0028 - mean_absolute_error: 0.0396\n",
            "Epoch 43/100\n",
            "\u001b[1m36/36\u001b[0m \u001b[32m━━━━━━━━━━━━━━━━━━━━\u001b[0m\u001b[37m\u001b[0m \u001b[1m1s\u001b[0m 30ms/step - loss: 0.0028 - mean_absolute_error: 0.0395\n",
            "Epoch 44/100\n",
            "\u001b[1m36/36\u001b[0m \u001b[32m━━━━━━━━━━━━━━━━━━━━\u001b[0m\u001b[37m\u001b[0m \u001b[1m1s\u001b[0m 15ms/step - loss: 0.0030 - mean_absolute_error: 0.0427\n",
            "Epoch 45/100\n",
            "\u001b[1m36/36\u001b[0m \u001b[32m━━━━━━━━━━━━━━━━━━━━\u001b[0m\u001b[37m\u001b[0m \u001b[1m1s\u001b[0m 34ms/step - loss: 0.0033 - mean_absolute_error: 0.0442\n",
            "Epoch 46/100\n",
            "\u001b[1m36/36\u001b[0m \u001b[32m━━━━━━━━━━━━━━━━━━━━\u001b[0m\u001b[37m\u001b[0m \u001b[1m1s\u001b[0m 30ms/step - loss: 0.0028 - mean_absolute_error: 0.0398\n",
            "Epoch 47/100\n",
            "\u001b[1m36/36\u001b[0m \u001b[32m━━━━━━━━━━━━━━━━━━━━\u001b[0m\u001b[37m\u001b[0m \u001b[1m1s\u001b[0m 33ms/step - loss: 0.0027 - mean_absolute_error: 0.0381\n",
            "Epoch 48/100\n",
            "\u001b[1m36/36\u001b[0m \u001b[32m━━━━━━━━━━━━━━━━━━━━\u001b[0m\u001b[37m\u001b[0m \u001b[1m1s\u001b[0m 17ms/step - loss: 0.0029 - mean_absolute_error: 0.0417 \n",
            "Epoch 49/100\n",
            "\u001b[1m36/36\u001b[0m \u001b[32m━━━━━━━━━━━━━━━━━━━━\u001b[0m\u001b[37m\u001b[0m \u001b[1m1s\u001b[0m 34ms/step - loss: 0.0026 - mean_absolute_error: 0.0389\n",
            "Epoch 50/100\n",
            "\u001b[1m36/36\u001b[0m \u001b[32m━━━━━━━━━━━━━━━━━━━━\u001b[0m\u001b[37m\u001b[0m \u001b[1m1s\u001b[0m 32ms/step - loss: 0.0028 - mean_absolute_error: 0.0408\n",
            "Epoch 51/100\n",
            "\u001b[1m36/36\u001b[0m \u001b[32m━━━━━━━━━━━━━━━━━━━━\u001b[0m\u001b[37m\u001b[0m \u001b[1m1s\u001b[0m 31ms/step - loss: 0.0029 - mean_absolute_error: 0.0412\n",
            "Epoch 52/100\n",
            "\u001b[1m36/36\u001b[0m \u001b[32m━━━━━━━━━━━━━━━━━━━━\u001b[0m\u001b[37m\u001b[0m \u001b[1m1s\u001b[0m 30ms/step - loss: 0.0028 - mean_absolute_error: 0.0398\n",
            "Epoch 53/100\n",
            "\u001b[1m36/36\u001b[0m \u001b[32m━━━━━━━━━━━━━━━━━━━━\u001b[0m\u001b[37m\u001b[0m \u001b[1m1s\u001b[0m 17ms/step - loss: 0.0026 - mean_absolute_error: 0.0377 \n",
            "Epoch 54/100\n",
            "\u001b[1m36/36\u001b[0m \u001b[32m━━━━━━━━━━━━━━━━━━━━\u001b[0m\u001b[37m\u001b[0m \u001b[1m1s\u001b[0m 32ms/step - loss: 0.0026 - mean_absolute_error: 0.0385\n",
            "Epoch 55/100\n",
            "\u001b[1m36/36\u001b[0m \u001b[32m━━━━━━━━━━━━━━━━━━━━\u001b[0m\u001b[37m\u001b[0m \u001b[1m1s\u001b[0m 35ms/step - loss: 0.0026 - mean_absolute_error: 0.0397\n",
            "Epoch 56/100\n",
            "\u001b[1m36/36\u001b[0m \u001b[32m━━━━━━━━━━━━━━━━━━━━\u001b[0m\u001b[37m\u001b[0m \u001b[1m1s\u001b[0m 34ms/step - loss: 0.0025 - mean_absolute_error: 0.0382\n",
            "Epoch 57/100\n",
            "\u001b[1m36/36\u001b[0m \u001b[32m━━━━━━━━━━━━━━━━━━━━\u001b[0m\u001b[37m\u001b[0m \u001b[1m8s\u001b[0m 221ms/step - loss: 0.0031 - mean_absolute_error: 0.0424\n",
            "Epoch 58/100\n",
            "\u001b[1m36/36\u001b[0m \u001b[32m━━━━━━━━━━━━━━━━━━━━\u001b[0m\u001b[37m\u001b[0m \u001b[1m-6s\u001b[0m -165776us/step - loss: 0.0025 - mean_absolute_error: 0.0377\n",
            "Epoch 59/100\n",
            "\u001b[1m36/36\u001b[0m \u001b[32m━━━━━━━━━━━━━━━━━━━━\u001b[0m\u001b[37m\u001b[0m \u001b[1m1s\u001b[0m 32ms/step - loss: 0.0027 - mean_absolute_error: 0.0393\n",
            "Epoch 60/100\n",
            "\u001b[1m36/36\u001b[0m \u001b[32m━━━━━━━━━━━━━━━━━━━━\u001b[0m\u001b[37m\u001b[0m \u001b[1m1s\u001b[0m 32ms/step - loss: 0.0023 - mean_absolute_error: 0.0361\n",
            "Epoch 61/100\n",
            "\u001b[1m36/36\u001b[0m \u001b[32m━━━━━━━━━━━━━━━━━━━━\u001b[0m\u001b[37m\u001b[0m \u001b[1m1s\u001b[0m 38ms/step - loss: 0.0024 - mean_absolute_error: 0.0376\n",
            "Epoch 62/100\n",
            "\u001b[1m36/36\u001b[0m \u001b[32m━━━━━━━━━━━━━━━━━━━━\u001b[0m\u001b[37m\u001b[0m \u001b[1m1s\u001b[0m 19ms/step - loss: 0.0021 - mean_absolute_error: 0.0349  \n",
            "Epoch 63/100\n",
            "\u001b[1m36/36\u001b[0m \u001b[32m━━━━━━━━━━━━━━━━━━━━\u001b[0m\u001b[37m\u001b[0m \u001b[1m1s\u001b[0m 34ms/step - loss: 0.0020 - mean_absolute_error: 0.0339\n",
            "Epoch 64/100\n",
            "\u001b[1m36/36\u001b[0m \u001b[32m━━━━━━━━━━━━━━━━━━━━\u001b[0m\u001b[37m\u001b[0m \u001b[1m1s\u001b[0m 34ms/step - loss: 0.0024 - mean_absolute_error: 0.0372\n",
            "Epoch 65/100\n",
            "\u001b[1m36/36\u001b[0m \u001b[32m━━━━━━━━━━━━━━━━━━━━\u001b[0m\u001b[37m\u001b[0m \u001b[1m1s\u001b[0m 33ms/step - loss: 0.0030 - mean_absolute_error: 0.0409\n",
            "Epoch 66/100\n",
            "\u001b[1m36/36\u001b[0m \u001b[32m━━━━━━━━━━━━━━━━━━━━\u001b[0m\u001b[37m\u001b[0m \u001b[1m1s\u001b[0m 22ms/step - loss: 0.0023 - mean_absolute_error: 0.0362 \n",
            "Epoch 67/100\n",
            "\u001b[1m36/36\u001b[0m \u001b[32m━━━━━━━━━━━━━━━━━━━━\u001b[0m\u001b[37m\u001b[0m \u001b[1m1s\u001b[0m 33ms/step - loss: 0.0026 - mean_absolute_error: 0.0397\n",
            "Epoch 68/100\n",
            "\u001b[1m36/36\u001b[0m \u001b[32m━━━━━━━━━━━━━━━━━━━━\u001b[0m\u001b[37m\u001b[0m \u001b[1m1s\u001b[0m 33ms/step - loss: 0.0023 - mean_absolute_error: 0.0371\n",
            "Epoch 69/100\n",
            "\u001b[1m36/36\u001b[0m \u001b[32m━━━━━━━━━━━━━━━━━━━━\u001b[0m\u001b[37m\u001b[0m \u001b[1m1s\u001b[0m 30ms/step - loss: 0.0023 - mean_absolute_error: 0.0355\n",
            "Epoch 70/100\n",
            "\u001b[1m36/36\u001b[0m \u001b[32m━━━━━━━━━━━━━━━━━━━━\u001b[0m\u001b[37m\u001b[0m \u001b[1m1s\u001b[0m 30ms/step - loss: 0.0022 - mean_absolute_error: 0.0363\n",
            "Epoch 71/100\n",
            "\u001b[1m36/36\u001b[0m \u001b[32m━━━━━━━━━━━━━━━━━━━━\u001b[0m\u001b[37m\u001b[0m \u001b[1m1s\u001b[0m 16ms/step - loss: 0.0022 - mean_absolute_error: 0.0359 \n",
            "Epoch 72/100\n",
            "\u001b[1m36/36\u001b[0m \u001b[32m━━━━━━━━━━━━━━━━━━━━\u001b[0m\u001b[37m\u001b[0m \u001b[1m1s\u001b[0m 37ms/step - loss: 0.0022 - mean_absolute_error: 0.0360\n",
            "Epoch 73/100\n",
            "\u001b[1m36/36\u001b[0m \u001b[32m━━━━━━━━━━━━━━━━━━━━\u001b[0m\u001b[37m\u001b[0m \u001b[1m1s\u001b[0m 36ms/step - loss: 0.0023 - mean_absolute_error: 0.0361\n",
            "Epoch 74/100\n",
            "\u001b[1m36/36\u001b[0m \u001b[32m━━━━━━━━━━━━━━━━━━━━\u001b[0m\u001b[37m\u001b[0m \u001b[1m1s\u001b[0m 33ms/step - loss: 0.0021 - mean_absolute_error: 0.0354\n",
            "Epoch 75/100\n",
            "\u001b[1m36/36\u001b[0m \u001b[32m━━━━━━━━━━━━━━━━━━━━\u001b[0m\u001b[37m\u001b[0m \u001b[1m1s\u001b[0m 18ms/step - loss: 0.0023 - mean_absolute_error: 0.0363 \n",
            "Epoch 76/100\n",
            "\u001b[1m36/36\u001b[0m \u001b[32m━━━━━━━━━━━━━━━━━━━━\u001b[0m\u001b[37m\u001b[0m \u001b[1m1s\u001b[0m 30ms/step - loss: 0.0021 - mean_absolute_error: 0.0356\n",
            "Epoch 77/100\n",
            "\u001b[1m36/36\u001b[0m \u001b[32m━━━━━━━━━━━━━━━━━━━━\u001b[0m\u001b[37m\u001b[0m \u001b[1m1s\u001b[0m 27ms/step - loss: 0.0023 - mean_absolute_error: 0.0365 \n",
            "Epoch 78/100\n",
            "\u001b[1m36/36\u001b[0m \u001b[32m━━━━━━━━━━━━━━━━━━━━\u001b[0m\u001b[37m\u001b[0m \u001b[1m1s\u001b[0m 35ms/step - loss: 0.0026 - mean_absolute_error: 0.0377\n",
            "Epoch 79/100\n",
            "\u001b[1m36/36\u001b[0m \u001b[32m━━━━━━━━━━━━━━━━━━━━\u001b[0m\u001b[37m\u001b[0m \u001b[1m1s\u001b[0m 34ms/step - loss: 0.0019 - mean_absolute_error: 0.0336\n",
            "Epoch 80/100\n",
            "\u001b[1m36/36\u001b[0m \u001b[32m━━━━━━━━━━━━━━━━━━━━\u001b[0m\u001b[37m\u001b[0m \u001b[1m1s\u001b[0m 25ms/step - loss: 0.0020 - mean_absolute_error: 0.0331 \n",
            "Epoch 81/100\n",
            "\u001b[1m36/36\u001b[0m \u001b[32m━━━━━━━━━━━━━━━━━━━━\u001b[0m\u001b[37m\u001b[0m \u001b[1m1s\u001b[0m 32ms/step - loss: 0.0023 - mean_absolute_error: 0.0372\n",
            "Epoch 82/100\n",
            "\u001b[1m36/36\u001b[0m \u001b[32m━━━━━━━━━━━━━━━━━━━━\u001b[0m\u001b[37m\u001b[0m \u001b[1m1s\u001b[0m 34ms/step - loss: 0.0020 - mean_absolute_error: 0.0337\n",
            "Epoch 83/100\n",
            "\u001b[1m36/36\u001b[0m \u001b[32m━━━━━━━━━━━━━━━━━━━━\u001b[0m\u001b[37m\u001b[0m \u001b[1m1s\u001b[0m 33ms/step - loss: 0.0021 - mean_absolute_error: 0.0354\n",
            "Epoch 84/100\n",
            "\u001b[1m36/36\u001b[0m \u001b[32m━━━━━━━━━━━━━━━━━━━━\u001b[0m\u001b[37m\u001b[0m \u001b[1m8s\u001b[0m 219ms/step - loss: 0.0021 - mean_absolute_error: 0.0343\n",
            "Epoch 85/100\n",
            "\u001b[1m36/36\u001b[0m \u001b[32m━━━━━━━━━━━━━━━━━━━━\u001b[0m\u001b[37m\u001b[0m \u001b[1m-6s\u001b[0m -171806us/step - loss: 0.0022 - mean_absolute_error: 0.0355\n",
            "Epoch 86/100\n",
            "\u001b[1m36/36\u001b[0m \u001b[32m━━━━━━━━━━━━━━━━━━━━\u001b[0m\u001b[37m\u001b[0m \u001b[1m1s\u001b[0m 30ms/step - loss: 0.0021 - mean_absolute_error: 0.0348\n",
            "Epoch 87/100\n",
            "\u001b[1m36/36\u001b[0m \u001b[32m━━━━━━━━━━━━━━━━━━━━\u001b[0m\u001b[37m\u001b[0m \u001b[1m1s\u001b[0m 29ms/step - loss: 0.0018 - mean_absolute_error: 0.0323\n",
            "Epoch 88/100\n",
            "\u001b[1m36/36\u001b[0m \u001b[32m━━━━━━━━━━━━━━━━━━━━\u001b[0m\u001b[37m\u001b[0m \u001b[1m1s\u001b[0m 33ms/step - loss: 0.0020 - mean_absolute_error: 0.0340\n",
            "Epoch 89/100\n",
            "\u001b[1m36/36\u001b[0m \u001b[32m━━━━━━━━━━━━━━━━━━━━\u001b[0m\u001b[37m\u001b[0m \u001b[1m8s\u001b[0m 218ms/step - loss: 0.0018 - mean_absolute_error: 0.0323\n",
            "Epoch 90/100\n",
            "\u001b[1m36/36\u001b[0m \u001b[32m━━━━━━━━━━━━━━━━━━━━\u001b[0m\u001b[37m\u001b[0m \u001b[1m-6s\u001b[0m 31ms/step - loss: 0.0018 - mean_absolute_error: 0.0318\n",
            "Epoch 91/100\n",
            "\u001b[1m36/36\u001b[0m \u001b[32m━━━━━━━━━━━━━━━━━━━━\u001b[0m\u001b[37m\u001b[0m \u001b[1m1s\u001b[0m 32ms/step - loss: 0.0019 - mean_absolute_error: 0.0330\n",
            "Epoch 92/100\n",
            "\u001b[1m36/36\u001b[0m \u001b[32m━━━━━━━━━━━━━━━━━━━━\u001b[0m\u001b[37m\u001b[0m \u001b[1m1s\u001b[0m 33ms/step - loss: 0.0019 - mean_absolute_error: 0.0329\n",
            "Epoch 93/100\n",
            "\u001b[1m36/36\u001b[0m \u001b[32m━━━━━━━━━━━━━━━━━━━━\u001b[0m\u001b[37m\u001b[0m \u001b[1m1s\u001b[0m 32ms/step - loss: 0.0018 - mean_absolute_error: 0.0323\n",
            "Epoch 94/100\n",
            "\u001b[1m36/36\u001b[0m \u001b[32m━━━━━━━━━━━━━━━━━━━━\u001b[0m\u001b[37m\u001b[0m \u001b[1m1s\u001b[0m 16ms/step - loss: 0.0020 - mean_absolute_error: 0.0335 \n",
            "Epoch 95/100\n",
            "\u001b[1m36/36\u001b[0m \u001b[32m━━━━━━━━━━━━━━━━━━━━\u001b[0m\u001b[37m\u001b[0m \u001b[1m1s\u001b[0m 32ms/step - loss: 0.0017 - mean_absolute_error: 0.0308\n",
            "Epoch 96/100\n",
            "\u001b[1m36/36\u001b[0m \u001b[32m━━━━━━━━━━━━━━━━━━━━\u001b[0m\u001b[37m\u001b[0m \u001b[1m1s\u001b[0m 32ms/step - loss: 0.0020 - mean_absolute_error: 0.0338\n",
            "Epoch 97/100\n",
            "\u001b[1m36/36\u001b[0m \u001b[32m━━━━━━━━━━━━━━━━━━━━\u001b[0m\u001b[37m\u001b[0m \u001b[1m1s\u001b[0m 32ms/step - loss: 0.0018 - mean_absolute_error: 0.0326\n",
            "Epoch 98/100\n",
            "\u001b[1m36/36\u001b[0m \u001b[32m━━━━━━━━━━━━━━━━━━━━\u001b[0m\u001b[37m\u001b[0m \u001b[1m1s\u001b[0m 33ms/step - loss: 0.0017 - mean_absolute_error: 0.0318\n",
            "Epoch 99/100\n",
            "\u001b[1m36/36\u001b[0m \u001b[32m━━━━━━━━━━━━━━━━━━━━\u001b[0m\u001b[37m\u001b[0m \u001b[1m1s\u001b[0m 14ms/step - loss: 0.0019 - mean_absolute_error: 0.0325  \n",
            "Epoch 100/100\n",
            "\u001b[1m36/36\u001b[0m \u001b[32m━━━━━━━━━━━━━━━━━━━━\u001b[0m\u001b[37m\u001b[0m \u001b[1m1s\u001b[0m 33ms/step - loss: 0.0018 - mean_absolute_error: 0.0317\n"
          ]
        },
        {
          "output_type": "execute_result",
          "data": {
            "text/plain": [
              "<keras.src.callbacks.history.History at 0x7f4aceca3e20>"
            ]
          },
          "metadata": {},
          "execution_count": 127
        }
      ]
    },
    {
      "cell_type": "code",
      "source": [
        "base_completa = pd.concat((database_treinamento.iloc[:, 1:2], database_teste.iloc[:, 1:2]), axis=0)\n",
        "base_completa.shape"
      ],
      "metadata": {
        "colab": {
          "base_uri": "https://localhost:8080/"
        },
        "id": "UGpmLsd_rUmn",
        "outputId": "18a9942b-6518-404a-85fa-df2c1b073eec"
      },
      "execution_count": 128,
      "outputs": [
        {
          "output_type": "execute_result",
          "data": {
            "text/plain": [
              "(1264, 1)"
            ]
          },
          "metadata": {},
          "execution_count": 128
        }
      ]
    },
    {
      "cell_type": "code",
      "source": [
        "entradas = base_completa[len(base_completa) - len(database_teste) - 90:].values\n",
        "entradas = entradas.reshape(-1, 1)\n",
        "entradas.shape"
      ],
      "metadata": {
        "colab": {
          "base_uri": "https://localhost:8080/"
        },
        "id": "DAsDLjPXsTDI",
        "outputId": "432267f5-ae64-4695-a7ce-e2d66ee43f06"
      },
      "execution_count": 129,
      "outputs": [
        {
          "output_type": "execute_result",
          "data": {
            "text/plain": [
              "(112, 1)"
            ]
          },
          "metadata": {},
          "execution_count": 129
        }
      ]
    },
    {
      "cell_type": "code",
      "source": [
        "entradas_normalizada = normalizador.transform(entradas)\n",
        "entradas_normalizada"
      ],
      "metadata": {
        "colab": {
          "base_uri": "https://localhost:8080/"
        },
        "id": "nhJidDKCtlWF",
        "outputId": "8596a82c-ea40-43f2-f07b-85ab93f8839b"
      },
      "execution_count": 130,
      "outputs": [
        {
          "output_type": "execute_result",
          "data": {
            "text/plain": [
              "array([[0.47141473],\n",
              "       [0.46317829],\n",
              "       [0.46463178],\n",
              "       [0.45203488],\n",
              "       [0.46753876],\n",
              "       [0.47286822],\n",
              "       [0.50242248],\n",
              "       [0.50629845],\n",
              "       [0.52422481],\n",
              "       [0.52810078],\n",
              "       [0.51744186],\n",
              "       [0.52228682],\n",
              "       [0.52034884],\n",
              "       [0.5247093 ],\n",
              "       [0.52664729],\n",
              "       [0.52422481],\n",
              "       [0.52810078],\n",
              "       [0.53536822],\n",
              "       [0.56443798],\n",
              "       [0.55232558],\n",
              "       [0.56153101],\n",
              "       [0.56492248],\n",
              "       [0.55717054],\n",
              "       [0.54118217],\n",
              "       [0.54748062],\n",
              "       [0.53246124],\n",
              "       [0.55232558],\n",
              "       [0.56686047],\n",
              "       [0.56589147],\n",
              "       [0.55523256],\n",
              "       [0.55281008],\n",
              "       [0.57800383],\n",
              "       [0.57994186],\n",
              "       [0.5755814 ],\n",
              "       [0.58284884],\n",
              "       [0.57945736],\n",
              "       [0.57848832],\n",
              "       [0.58236429],\n",
              "       [0.57170543],\n",
              "       [0.5809109 ],\n",
              "       [0.58575586],\n",
              "       [0.58575586],\n",
              "       [0.59738377],\n",
              "       [0.60949617],\n",
              "       [0.60901163],\n",
              "       [0.6187015 ],\n",
              "       [0.61531008],\n",
              "       [0.61967054],\n",
              "       [0.61531008],\n",
              "       [0.61821701],\n",
              "       [0.62257747],\n",
              "       [0.63517437],\n",
              "       [0.60513571],\n",
              "       [0.61482553],\n",
              "       [0.6061046 ],\n",
              "       [0.60513571],\n",
              "       [0.60271313],\n",
              "       [0.54021318],\n",
              "       [0.55329457],\n",
              "       [0.56782946],\n",
              "       [0.57267442],\n",
              "       [0.57897287],\n",
              "       [0.57606589],\n",
              "       [0.57073643],\n",
              "       [0.58381783],\n",
              "       [0.57218992],\n",
              "       [0.56831395],\n",
              "       [0.56540698],\n",
              "       [0.5377907 ],\n",
              "       [0.53972868],\n",
              "       [0.55474806],\n",
              "       [0.54748062],\n",
              "       [0.53391473],\n",
              "       [0.5377907 ],\n",
              "       [0.54796512],\n",
              "       [0.54651163],\n",
              "       [0.54069767],\n",
              "       [0.55474806],\n",
              "       [0.52810078],\n",
              "       [0.52567829],\n",
              "       [0.53100775],\n",
              "       [0.53197674],\n",
              "       [0.53343023],\n",
              "       [0.53827519],\n",
              "       [0.55959302],\n",
              "       [0.55959302],\n",
              "       [0.55959302],\n",
              "       [0.57122093],\n",
              "       [0.57655039],\n",
              "       [0.57655039],\n",
              "       [0.5809109 ],\n",
              "       [0.59544574],\n",
              "       [0.60949617],\n",
              "       [0.6056202 ],\n",
              "       [0.60755814],\n",
              "       [0.62160858],\n",
              "       [0.61627907],\n",
              "       [0.61434104],\n",
              "       [0.62209307],\n",
              "       [0.63565891],\n",
              "       [0.6371124 ],\n",
              "       [0.66472868],\n",
              "       [0.68556202],\n",
              "       [0.68362398],\n",
              "       [0.68120155],\n",
              "       [0.6879845 ],\n",
              "       [0.68895349],\n",
              "       [0.73352713],\n",
              "       [0.74709307],\n",
              "       [0.7495155 ],\n",
              "       [0.75436047],\n",
              "       [0.75290698]])"
            ]
          },
          "metadata": {},
          "execution_count": 130
        }
      ]
    },
    {
      "cell_type": "code",
      "source": [
        "x_test = []\n",
        "for i in range(90, 112):\n",
        "    x_test.append(entradas_normalizada[i-90:i, 0])\n",
        "\n",
        "x_test = np.array(x_test)\n",
        "x_test.shape"
      ],
      "metadata": {
        "colab": {
          "base_uri": "https://localhost:8080/"
        },
        "id": "MogmoZLltsrn",
        "outputId": "1a5ea55c-cf19-4ee7-a314-a9e92a0178ea"
      },
      "execution_count": 131,
      "outputs": [
        {
          "output_type": "execute_result",
          "data": {
            "text/plain": [
              "(22, 90)"
            ]
          },
          "metadata": {},
          "execution_count": 131
        }
      ]
    },
    {
      "cell_type": "code",
      "source": [
        "x_test = np.reshape(x_test, (x_test.shape[0], x_test.shape[1], 1))\n",
        "x_test.shape"
      ],
      "metadata": {
        "colab": {
          "base_uri": "https://localhost:8080/"
        },
        "id": "8pTNvc_st8wC",
        "outputId": "bd6dd8d7-0b3a-4569-a81e-b5c6a4b49c12"
      },
      "execution_count": 132,
      "outputs": [
        {
          "output_type": "execute_result",
          "data": {
            "text/plain": [
              "(22, 90, 1)"
            ]
          },
          "metadata": {},
          "execution_count": 132
        }
      ]
    },
    {
      "cell_type": "code",
      "source": [
        "previsoes = net.predict(x_test)\n",
        "previsoes"
      ],
      "metadata": {
        "colab": {
          "base_uri": "https://localhost:8080/"
        },
        "id": "n7zL06wAuSyv",
        "outputId": "bf2d578b-ce05-4b17-87cc-cfe33b94b23e"
      },
      "execution_count": 133,
      "outputs": [
        {
          "output_type": "stream",
          "name": "stdout",
          "text": [
            "\u001b[1m1/1\u001b[0m \u001b[32m━━━━━━━━━━━━━━━━━━━━\u001b[0m\u001b[37m\u001b[0m \u001b[1m0s\u001b[0m 269ms/step\n"
          ]
        },
        {
          "output_type": "execute_result",
          "data": {
            "text/plain": [
              "array([[0.56875443],\n",
              "       [0.57247686],\n",
              "       [0.5765122 ],\n",
              "       [0.58273804],\n",
              "       [0.58965546],\n",
              "       [0.5955558 ],\n",
              "       [0.6011826 ],\n",
              "       [0.60560423],\n",
              "       [0.60791993],\n",
              "       [0.60920984],\n",
              "       [0.6118771 ],\n",
              "       [0.61617863],\n",
              "       [0.6244345 ],\n",
              "       [0.63777804],\n",
              "       [0.6526952 ],\n",
              "       [0.6647881 ],\n",
              "       [0.6726794 ],\n",
              "       [0.6765566 ],\n",
              "       [0.68304455],\n",
              "       [0.69468856],\n",
              "       [0.7089211 ],\n",
              "       [0.7222614 ]], dtype=float32)"
            ]
          },
          "metadata": {},
          "execution_count": 133
        }
      ]
    },
    {
      "cell_type": "code",
      "source": [
        "previsoes = normalizador.inverse_transform(previsoes)\n",
        "previsoes"
      ],
      "metadata": {
        "colab": {
          "base_uri": "https://localhost:8080/"
        },
        "id": "SJtV7F1EuUu7",
        "outputId": "270c68d9-abae-449a-e49b-12b4c6d59a0b"
      },
      "execution_count": 134,
      "outputs": [
        {
          "output_type": "execute_result",
          "data": {
            "text/plain": [
              "array([[15.939091],\n",
              "       [16.015923],\n",
              "       [16.099213],\n",
              "       [16.227713],\n",
              "       [16.37049 ],\n",
              "       [16.492271],\n",
              "       [16.608408],\n",
              "       [16.69967 ],\n",
              "       [16.747467],\n",
              "       [16.77409 ],\n",
              "       [16.829142],\n",
              "       [16.917927],\n",
              "       [17.088327],\n",
              "       [17.363739],\n",
              "       [17.671629],\n",
              "       [17.921227],\n",
              "       [18.084103],\n",
              "       [18.164127],\n",
              "       [18.298038],\n",
              "       [18.538372],\n",
              "       [18.83213 ],\n",
              "       [19.107475]], dtype=float32)"
            ]
          },
          "metadata": {},
          "execution_count": 134
        }
      ]
    },
    {
      "cell_type": "code",
      "source": [
        "base_teste"
      ],
      "metadata": {
        "colab": {
          "base_uri": "https://localhost:8080/"
        },
        "id": "3-ov_B9YuipK",
        "outputId": "aed6f086-0241-4317-ddaa-4c4e05e8a790"
      },
      "execution_count": 135,
      "outputs": [
        {
          "output_type": "execute_result",
          "data": {
            "text/plain": [
              "array([[16.190001],\n",
              "       [16.49    ],\n",
              "       [16.780001],\n",
              "       [16.700001],\n",
              "       [16.74    ],\n",
              "       [17.030001],\n",
              "       [16.92    ],\n",
              "       [16.879999],\n",
              "       [17.040001],\n",
              "       [17.32    ],\n",
              "       [17.35    ],\n",
              "       [17.92    ],\n",
              "       [18.35    ],\n",
              "       [18.309999],\n",
              "       [18.26    ],\n",
              "       [18.4     ],\n",
              "       [18.42    ],\n",
              "       [19.34    ],\n",
              "       [19.620001],\n",
              "       [19.67    ],\n",
              "       [19.77    ],\n",
              "       [19.74    ]])"
            ]
          },
          "metadata": {},
          "execution_count": 135
        }
      ]
    },
    {
      "cell_type": "code",
      "source": [
        "previsoes.mean(), base_teste.mean()"
      ],
      "metadata": {
        "colab": {
          "base_uri": "https://localhost:8080/"
        },
        "id": "_2t7X7sJutXB",
        "outputId": "3c4991b7-5372-4619-a8e1-6f99774570f3"
      },
      "execution_count": 136,
      "outputs": [
        {
          "output_type": "execute_result",
          "data": {
            "text/plain": [
              "(17.217752, 17.87454563636364)"
            ]
          },
          "metadata": {},
          "execution_count": 136
        }
      ]
    },
    {
      "cell_type": "code",
      "source": [
        "from sklearn.metrics import mean_absolute_error, mean_squared_error\n",
        "\n",
        "mean_absolute_error(base_teste, previsoes), mean_squared_error(base_teste, previsoes)"
      ],
      "metadata": {
        "colab": {
          "base_uri": "https://localhost:8080/"
        },
        "id": "jd8AIvMUu5X0",
        "outputId": "032465b3-323f-419e-8cff-f0da185a4564"
      },
      "execution_count": 137,
      "outputs": [
        {
          "output_type": "execute_result",
          "data": {
            "text/plain": [
              "(0.6567923994196113, 0.5479345140815277)"
            ]
          },
          "metadata": {},
          "execution_count": 137
        }
      ]
    },
    {
      "cell_type": "code",
      "source": [
        "plt.plot(base_teste, color='red', label='Preço real');\n",
        "plt.plot(previsoes, color='blue', label='Previsão');\n",
        "plt.legend();"
      ],
      "metadata": {
        "colab": {
          "base_uri": "https://localhost:8080/",
          "height": 430
        },
        "id": "SVGkqXsMvgeB",
        "outputId": "3d5ec546-51b5-4a86-ee89-7233b0f52980"
      },
      "execution_count": 139,
      "outputs": [
        {
          "output_type": "display_data",
          "data": {
            "text/plain": [
              "<Figure size 640x480 with 1 Axes>"
            ],
            "image/png": "[encoded data removed]"
          },
          "metadata": {}
        }
      ]
    }
  ]
}